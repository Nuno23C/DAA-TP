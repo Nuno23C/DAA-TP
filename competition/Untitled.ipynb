{
 "cells": [
  {
   "cell_type": "code",
   "execution_count": 2,
   "id": "11f6bd2a",
   "metadata": {},
   "outputs": [],
   "source": [
    "import pandas as pd\n",
    "import numpy as np\n",
    "import glob\n",
    "import os\n",
    "import matplotlib.pyplot as plt\n",
    "import seaborn as sns\n",
    "from sklearn.model_selection import train_test_split\n",
    "from sklearn.tree import DecisionTreeClassifier\n",
    "from sklearn import tree\n",
    "import sklearn.metrics as metrics\n",
    "from sklearn.metrics import accuracy_score, classification_report, ConfusionMatrixDisplay\n",
    "%matplotlib inline"
   ]
  },
  {
   "cell_type": "markdown",
   "id": "ee3f130b",
   "metadata": {},
   "source": [
    "# Check out the data"
   ]
  },
  {
   "attachments": {},
   "cell_type": "markdown",
   "id": "1691f17f",
   "metadata": {},
   "source": [
    "## Energy Datasets\n",
    "\n",
    "- **Data** - o timestamp associado ao registo, ao dia;\n",
    "- **Hora** - a hora associada ao registo;\n",
    "- **Normal** (kWh) - quantidade de energia eléctrica consumida, em kWh e proveniente da rede eléctrica, num período considerado normal em ciclos bi-horário diários (horas fora de vazio);\n",
    "- **Horário Económico (kWh)** - quantidade de energia eléctrica consumida, em kWh e proveniente da rede eléctrica, num período considerado económico em ciclos bi-horário diários (horas de vazio);\n",
    "- **Autoconsumo (kWh)** - quantidade de energia eléctrica consumida, em kWh, proveniente dos painéis solares;\n",
    "- **Injeção na rede (kWh)** - quantidade de energia eléctrica injectada na rede eléctrica, em kWh, proveniente dos painéis solares."
   ]
  },
  {
   "cell_type": "code",
   "execution_count": null,
   "id": "c9559285",
   "metadata": {},
   "outputs": [],
   "source": [
    "en1 = pd.read_csv('./datasets/energia_202109-202112.csv')\n",
    "en2 = pd.read_csv('./datasets/energia_202201-202212.csv')\n",
    "en3 = pd.read_csv('./datasets/energia_202301-202304.csv')\n",
    "\n",
    "\n",
    "# Merge the two dataframes\n",
    "energyDatasets = pd.concat([en1, en2, en3])\n",
    "\n",
    "energyDatasets.to_csv(\"combinedEnergy.csv\", index=False)"
   ]
  },
  {
   "cell_type": "markdown",
   "id": "cca0951b",
   "metadata": {},
   "source": [
    "## Meteorological Datasets\n",
    "\n",
    "- **dt** - o timestamp associado ao registo;\n",
    "- **dt_iso** - a data associada ao registo, ao segundo;\n",
    "- **city_name** - o local em causa;\n",
    "- **temp** - temperatura em ºC;\n",
    "- **feels_like** - sensação térmica em ºC;\n",
    "- **temp_min** - temperatura mínima sentida em ºC;\n",
    "- **temp_max** - temperatura máxima sentida em ºC;\n",
    "- **pressure** - pressão atmosférica sentida em atm;\n",
    "- **sea_level** - pressão atmosférica sentida ao nível do mar em atm;\n",
    "- **grnd_level** - pressão atmosférica sentida à altitude local em atm;\n",
    "- **humidity** - humidade em percentagem;\n",
    "- **wind_speed** - velocidade do vento em metros por segundo;\n",
    "- **rain_1h** - valor médio de precipitação;\n",
    "- **clouds_all** - nível de nebulosidade em percentagem;\n",
    "- **weather_description** - avaliação qualitativa do estado do tempo."
   ]
  },
  {
   "cell_type": "code",
   "execution_count": 3,
   "id": "a587cd5d",
   "metadata": {},
   "outputs": [],
   "source": [
    "meteo1 = pd.read_csv('./datasets/meteo_202109-202112.csv')\n",
    "meteo2 = pd.read_csv('./datasets/meteo_202201-202212.csv')\n",
    "meteo3 = pd.read_csv('./datasets/meteo_202301-202304.csv')\n",
    "\n",
    "\n",
    "# Merge the two dataframes\n",
    "meteoDatasets = pd.concat([meteo1, meteo2, meteo3])\n",
    "\n",
    "meteoDatasets.to_csv(\"/datasets/combined/combinedMeteo.csv\", index=False)"
   ]
  },
  {
   "cell_type": "markdown",
   "id": "47846389",
   "metadata": {},
   "source": [
    "# Understand the information - meteo"
   ]
  },
  {
   "cell_type": "code",
   "execution_count": 4,
   "id": "bb0c74c3",
   "metadata": {},
   "outputs": [
    {
     "name": "stdout",
     "output_type": "stream",
     "text": [
      "<class 'pandas.core.frame.DataFrame'>\n",
      "Index: 13440 entries, 0 to 1751\n",
      "Data columns (total 15 columns):\n",
      " #   Column               Non-Null Count  Dtype  \n",
      "---  ------               --------------  -----  \n",
      " 0   dt                   13440 non-null  int64  \n",
      " 1   dt_iso               13440 non-null  object \n",
      " 2   city_name            13440 non-null  object \n",
      " 3   temp                 13440 non-null  float64\n",
      " 4   feels_like           13440 non-null  float64\n",
      " 5   temp_min             13440 non-null  float64\n",
      " 6   temp_max             13440 non-null  float64\n",
      " 7   pressure             13440 non-null  int64  \n",
      " 8   sea_level            0 non-null      float64\n",
      " 9   grnd_level           0 non-null      float64\n",
      " 10  humidity             13440 non-null  int64  \n",
      " 11  wind_speed           13440 non-null  float64\n",
      " 12  rain_1h              2641 non-null   float64\n",
      " 13  clouds_all           13440 non-null  int64  \n",
      " 14  weather_description  13440 non-null  object \n",
      "dtypes: float64(8), int64(4), object(3)\n",
      "memory usage: 1.6+ MB\n"
     ]
    }
   ],
   "source": [
    "meteoDatasets.info()"
   ]
  },
  {
   "cell_type": "code",
   "execution_count": 6,
   "id": "1fe15114",
   "metadata": {},
   "outputs": [
    {
     "data": {
      "text/plain": [
       "dt                         0\n",
       "dt_iso                     0\n",
       "city_name                  0\n",
       "temp                       0\n",
       "feels_like                 0\n",
       "temp_min                   0\n",
       "temp_max                   0\n",
       "pressure                   0\n",
       "sea_level              13440\n",
       "grnd_level             13440\n",
       "humidity                   0\n",
       "wind_speed                 0\n",
       "rain_1h                10799\n",
       "clouds_all                 0\n",
       "weather_description        0\n",
       "dtype: int64"
      ]
     },
     "execution_count": 6,
     "metadata": {},
     "output_type": "execute_result"
    }
   ],
   "source": [
    "meteoDatasets.isnull().sum()"
   ]
  },
  {
   "cell_type": "code",
   "execution_count": 8,
   "id": "cfde0e37",
   "metadata": {},
   "outputs": [
    {
     "data": {
      "text/plain": [
       "<Axes: >"
      ]
     },
     "execution_count": 8,
     "metadata": {},
     "output_type": "execute_result"
    },
    {
     "data": {
      "image/png": "[encoded data removed]",
      "text/plain": [
       "<Figure size 640x480 with 1 Axes>"
      ]
     },
     "metadata": {},
     "output_type": "display_data"
    }
   ],
   "source": [
    "sns.heatmap(meteoDatasets.isnull(),yticklabels=False,cbar=False,cmap='viridis')"
   ]
  },
  {
   "cell_type": "code",
   "execution_count": 9,
   "id": "af15cda3",
   "metadata": {},
   "outputs": [
    {
     "data": {
      "text/plain": [
       "dt                     13440\n",
       "dt_iso                 13440\n",
       "city_name                  1\n",
       "temp                    2611\n",
       "feels_like              2872\n",
       "temp_min                 508\n",
       "temp_max                 572\n",
       "pressure                  43\n",
       "sea_level                  0\n",
       "grnd_level                 0\n",
       "humidity                  82\n",
       "wind_speed               809\n",
       "rain_1h                  386\n",
       "clouds_all               101\n",
       "weather_description        8\n",
       "dtype: int64"
      ]
     },
     "execution_count": 9,
     "metadata": {},
     "output_type": "execute_result"
    }
   ],
   "source": [
    "meteoDatasets.nunique()"
   ]
  },
  {
   "cell_type": "code",
   "execution_count": 10,
   "id": "6d0289e5",
   "metadata": {},
   "outputs": [],
   "source": [
    "meteoDatasets.drop(['sea_level','grnd_level','city_name'], axis=1,inplace=True)"
   ]
  },
  {
   "cell_type": "code",
   "execution_count": 12,
   "id": "086f9c83",
   "metadata": {},
   "outputs": [
    {
     "data": {
      "text/plain": [
       "count    2641.000000\n",
       "mean        0.895706\n",
       "std         1.085090\n",
       "min         0.100000\n",
       "25%         0.210000\n",
       "50%         0.460000\n",
       "75%         1.090000\n",
       "max         7.450000\n",
       "Name: rain_1h, dtype: float64"
      ]
     },
     "execution_count": 12,
     "metadata": {},
     "output_type": "execute_result"
    }
   ],
   "source": [
    "meteoDatasets['rain_1h'].describe()"
   ]
  },
  {
   "cell_type": "code",
   "execution_count": 13,
   "id": "051d1782",
   "metadata": {},
   "outputs": [],
   "source": [
    "meteoDatasets['rain_1h'].fillna(0.895706, inplace = True)"
   ]
  },
  {
   "cell_type": "code",
   "execution_count": 16,
   "id": "aac77610",
   "metadata": {},
   "outputs": [
    {
     "data": {
      "text/plain": [
       "<Axes: >"
      ]
     },
     "execution_count": 16,
     "metadata": {},
     "output_type": "execute_result"
    },
    {
     "data": {
      "image/png": "[encoded data removed]",
      "text/plain": [
       "<Figure size 640x480 with 1 Axes>"
      ]
     },
     "metadata": {},
     "output_type": "display_data"
    }
   ],
   "source": [
    "sns.heatmap(meteoDatasets.isnull(),yticklabels=False,cbar=False,cmap='viridis')"
   ]
  },
  {
   "cell_type": "code",
   "execution_count": null,
   "id": "7fe7c9c2",
   "metadata": {},
   "outputs": [],
   "source": []
  }
 ],
 "metadata": {
  "kernelspec": {
   "display_name": "Python 3 (ipykernel)",
   "language": "python",
   "name": "python3"
  },
  "language_info": {
   "codemirror_mode": {
    "name": "ipython",
    "version": 3
   },
   "file_extension": ".py",
   "mimetype": "text/x-python",
   "name": "python",
   "nbconvert_exporter": "python",
   "pygments_lexer": "ipython3",
   "version": "3.11.4"
  }
 },
 "nbformat": 4,
 "nbformat_minor": 5
}
