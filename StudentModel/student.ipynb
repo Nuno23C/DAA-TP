{
 "cells": [
  {
   "cell_type": "code",
   "execution_count": 40,
   "metadata": {
    "tags": []
   },
   "outputs": [],
   "source": [
    "import pandas as pd\n",
    "import numpy as np\n",
    "import glob\n",
    "import os\n",
    "import matplotlib.pyplot as plt\n",
    "import seaborn as sns\n",
    "from sklearn.model_selection import train_test_split\n",
    "from sklearn.tree import DecisionTreeRegressor\n",
    "from sklearn import tree\n",
    "import sklearn.metrics as metrics\n",
    "from sklearn.metrics import accuracy_score, classification_report, ConfusionMatrixDisplay\n",
    "%matplotlib inline"
   ]
  },
  {
   "cell_type": "markdown",
   "metadata": {},
   "source": [
    "#### Check out the data"
   ]
  },
  {
   "cell_type": "code",
   "execution_count": 41,
   "metadata": {
    "tags": []
   },
   "outputs": [],
   "source": [
    "# merging two csv files \n",
    "# student_data = pd.read_csv('combined_file.csv')\n",
    "#student_data = pd.concat(map(pd.read_csv, ['student-mat.csv', 'student-por.csv']), ignore_index=True)\n",
    "\n",
    "# Read the CSV files\n",
    "df1 = pd.read_csv('student-mat.csv')\n",
    "df2 = pd.read_csv('student-por.csv')\n",
    "\n",
    "# Merge the two dataframes\n",
    "student_data = pd.concat([df1, df2])\n",
    "\n",
    "student_data.to_csv(\"combined.csv\", index=False)"
   ]
  },
  {
   "cell_type": "markdown",
   "metadata": {},
   "source": [
    "##### Understand the data"
   ]
  },
  {
   "cell_type": "code",
   "execution_count": 42,
   "metadata": {
    "tags": []
   },
   "outputs": [
    {
     "data": {
      "text/html": [
       "<div>\n",
       "<style scoped>\n",
       "    .dataframe tbody tr th:only-of-type {\n",
       "        vertical-align: middle;\n",
       "    }\n",
       "\n",
       "    .dataframe tbody tr th {\n",
       "        vertical-align: top;\n",
       "    }\n",
       "\n",
       "    .dataframe thead th {\n",
       "        text-align: right;\n",
       "    }\n",
       "</style>\n",
       "<table border=\"1\" class=\"dataframe\">\n",
       "  <thead>\n",
       "    <tr style=\"text-align: right;\">\n",
       "      <th></th>\n",
       "      <th>school</th>\n",
       "      <th>sex</th>\n",
       "      <th>age</th>\n",
       "      <th>address</th>\n",
       "      <th>famsize</th>\n",
       "      <th>Pstatus</th>\n",
       "      <th>Medu</th>\n",
       "      <th>Fedu</th>\n",
       "      <th>Mjob</th>\n",
       "      <th>Fjob</th>\n",
       "      <th>...</th>\n",
       "      <th>famrel</th>\n",
       "      <th>freetime</th>\n",
       "      <th>goout</th>\n",
       "      <th>Dalc</th>\n",
       "      <th>Walc</th>\n",
       "      <th>health</th>\n",
       "      <th>absences</th>\n",
       "      <th>G1</th>\n",
       "      <th>G2</th>\n",
       "      <th>G3</th>\n",
       "    </tr>\n",
       "  </thead>\n",
       "  <tbody>\n",
       "    <tr>\n",
       "      <th>0</th>\n",
       "      <td>GP</td>\n",
       "      <td>F</td>\n",
       "      <td>18</td>\n",
       "      <td>U</td>\n",
       "      <td>GT3</td>\n",
       "      <td>A</td>\n",
       "      <td>4</td>\n",
       "      <td>4</td>\n",
       "      <td>at_home</td>\n",
       "      <td>teacher</td>\n",
       "      <td>...</td>\n",
       "      <td>4</td>\n",
       "      <td>3</td>\n",
       "      <td>4</td>\n",
       "      <td>1</td>\n",
       "      <td>1</td>\n",
       "      <td>3</td>\n",
       "      <td>6</td>\n",
       "      <td>5</td>\n",
       "      <td>6</td>\n",
       "      <td>6</td>\n",
       "    </tr>\n",
       "    <tr>\n",
       "      <th>1</th>\n",
       "      <td>GP</td>\n",
       "      <td>F</td>\n",
       "      <td>17</td>\n",
       "      <td>U</td>\n",
       "      <td>GT3</td>\n",
       "      <td>T</td>\n",
       "      <td>1</td>\n",
       "      <td>1</td>\n",
       "      <td>at_home</td>\n",
       "      <td>other</td>\n",
       "      <td>...</td>\n",
       "      <td>5</td>\n",
       "      <td>3</td>\n",
       "      <td>3</td>\n",
       "      <td>1</td>\n",
       "      <td>1</td>\n",
       "      <td>3</td>\n",
       "      <td>4</td>\n",
       "      <td>5</td>\n",
       "      <td>5</td>\n",
       "      <td>6</td>\n",
       "    </tr>\n",
       "    <tr>\n",
       "      <th>2</th>\n",
       "      <td>GP</td>\n",
       "      <td>F</td>\n",
       "      <td>15</td>\n",
       "      <td>U</td>\n",
       "      <td>LE3</td>\n",
       "      <td>T</td>\n",
       "      <td>1</td>\n",
       "      <td>1</td>\n",
       "      <td>at_home</td>\n",
       "      <td>other</td>\n",
       "      <td>...</td>\n",
       "      <td>4</td>\n",
       "      <td>3</td>\n",
       "      <td>2</td>\n",
       "      <td>2</td>\n",
       "      <td>3</td>\n",
       "      <td>3</td>\n",
       "      <td>10</td>\n",
       "      <td>7</td>\n",
       "      <td>8</td>\n",
       "      <td>10</td>\n",
       "    </tr>\n",
       "    <tr>\n",
       "      <th>3</th>\n",
       "      <td>GP</td>\n",
       "      <td>F</td>\n",
       "      <td>15</td>\n",
       "      <td>U</td>\n",
       "      <td>GT3</td>\n",
       "      <td>T</td>\n",
       "      <td>4</td>\n",
       "      <td>2</td>\n",
       "      <td>health</td>\n",
       "      <td>services</td>\n",
       "      <td>...</td>\n",
       "      <td>3</td>\n",
       "      <td>2</td>\n",
       "      <td>2</td>\n",
       "      <td>1</td>\n",
       "      <td>1</td>\n",
       "      <td>5</td>\n",
       "      <td>2</td>\n",
       "      <td>15</td>\n",
       "      <td>14</td>\n",
       "      <td>15</td>\n",
       "    </tr>\n",
       "    <tr>\n",
       "      <th>4</th>\n",
       "      <td>GP</td>\n",
       "      <td>F</td>\n",
       "      <td>16</td>\n",
       "      <td>U</td>\n",
       "      <td>GT3</td>\n",
       "      <td>T</td>\n",
       "      <td>3</td>\n",
       "      <td>3</td>\n",
       "      <td>other</td>\n",
       "      <td>other</td>\n",
       "      <td>...</td>\n",
       "      <td>4</td>\n",
       "      <td>3</td>\n",
       "      <td>2</td>\n",
       "      <td>1</td>\n",
       "      <td>2</td>\n",
       "      <td>5</td>\n",
       "      <td>4</td>\n",
       "      <td>6</td>\n",
       "      <td>10</td>\n",
       "      <td>10</td>\n",
       "    </tr>\n",
       "  </tbody>\n",
       "</table>\n",
       "<p>5 rows × 33 columns</p>\n",
       "</div>"
      ],
      "text/plain": [
       "  school sex  age address famsize Pstatus  Medu  Fedu     Mjob      Fjob  ...  \\\n",
       "0     GP   F   18       U     GT3       A     4     4  at_home   teacher  ...   \n",
       "1     GP   F   17       U     GT3       T     1     1  at_home     other  ...   \n",
       "2     GP   F   15       U     LE3       T     1     1  at_home     other  ...   \n",
       "3     GP   F   15       U     GT3       T     4     2   health  services  ...   \n",
       "4     GP   F   16       U     GT3       T     3     3    other     other  ...   \n",
       "\n",
       "  famrel freetime  goout  Dalc  Walc health absences  G1  G2  G3  \n",
       "0      4        3      4     1     1      3        6   5   6   6  \n",
       "1      5        3      3     1     1      3        4   5   5   6  \n",
       "2      4        3      2     2     3      3       10   7   8  10  \n",
       "3      3        2      2     1     1      5        2  15  14  15  \n",
       "4      4        3      2     1     2      5        4   6  10  10  \n",
       "\n",
       "[5 rows x 33 columns]"
      ]
     },
     "execution_count": 42,
     "metadata": {},
     "output_type": "execute_result"
    }
   ],
   "source": [
    "student_data.head()"
   ]
  },
  {
   "cell_type": "code",
   "execution_count": 43,
   "metadata": {
    "tags": []
   },
   "outputs": [
    {
     "data": {
      "text/plain": [
       "Index(['school', 'sex', 'age', 'address', 'famsize', 'Pstatus', 'Medu', 'Fedu',\n",
       "       'Mjob', 'Fjob', 'reason', 'guardian', 'traveltime', 'studytime',\n",
       "       'failures', 'schoolsup', 'famsup', 'paid', 'activities', 'nursery',\n",
       "       'higher', 'internet', 'romantic', 'famrel', 'freetime', 'goout', 'Dalc',\n",
       "       'Walc', 'health', 'absences', 'G1', 'G2', 'G3'],\n",
       "      dtype='object')"
      ]
     },
     "execution_count": 43,
     "metadata": {},
     "output_type": "execute_result"
    }
   ],
   "source": [
    "student_data.columns"
   ]
  },
  {
   "cell_type": "code",
   "execution_count": 44,
   "metadata": {
    "tags": []
   },
   "outputs": [],
   "source": [
    "student_data.drop(columns=student_data.columns[0], axis=1,  inplace=True)"
   ]
  },
  {
   "cell_type": "code",
   "execution_count": 45,
   "metadata": {
    "tags": []
   },
   "outputs": [
    {
     "name": "stdout",
     "output_type": "stream",
     "text": [
      "<class 'pandas.core.frame.DataFrame'>\n",
      "Index: 1044 entries, 0 to 648\n",
      "Data columns (total 32 columns):\n",
      " #   Column      Non-Null Count  Dtype \n",
      "---  ------      --------------  ----- \n",
      " 0   sex         1044 non-null   object\n",
      " 1   age         1044 non-null   int64 \n",
      " 2   address     1044 non-null   object\n",
      " 3   famsize     1044 non-null   object\n",
      " 4   Pstatus     1044 non-null   object\n",
      " 5   Medu        1044 non-null   int64 \n",
      " 6   Fedu        1044 non-null   int64 \n",
      " 7   Mjob        1044 non-null   object\n",
      " 8   Fjob        1044 non-null   object\n",
      " 9   reason      1044 non-null   object\n",
      " 10  guardian    1044 non-null   object\n",
      " 11  traveltime  1044 non-null   int64 \n",
      " 12  studytime   1044 non-null   int64 \n",
      " 13  failures    1044 non-null   int64 \n",
      " 14  schoolsup   1044 non-null   object\n",
      " 15  famsup      1044 non-null   object\n",
      " 16  paid        1044 non-null   object\n",
      " 17  activities  1044 non-null   object\n",
      " 18  nursery     1044 non-null   object\n",
      " 19  higher      1044 non-null   object\n",
      " 20  internet    1044 non-null   object\n",
      " 21  romantic    1044 non-null   object\n",
      " 22  famrel      1044 non-null   int64 \n",
      " 23  freetime    1044 non-null   int64 \n",
      " 24  goout       1044 non-null   int64 \n",
      " 25  Dalc        1044 non-null   int64 \n",
      " 26  Walc        1044 non-null   int64 \n",
      " 27  health      1044 non-null   int64 \n",
      " 28  absences    1044 non-null   int64 \n",
      " 29  G1          1044 non-null   int64 \n",
      " 30  G2          1044 non-null   int64 \n",
      " 31  G3          1044 non-null   int64 \n",
      "dtypes: int64(16), object(16)\n",
      "memory usage: 269.2+ KB\n"
     ]
    }
   ],
   "source": [
    "student_data.info()"
   ]
  },
  {
   "cell_type": "code",
   "execution_count": 46,
   "metadata": {
    "tags": []
   },
   "outputs": [
    {
     "name": "stdout",
     "output_type": "stream",
     "text": [
      "0\n",
      "<class 'pandas.core.frame.DataFrame'>\n",
      "Index: 1044 entries, 0 to 648\n",
      "Data columns (total 32 columns):\n",
      " #   Column      Non-Null Count  Dtype \n",
      "---  ------      --------------  ----- \n",
      " 0   sex         1044 non-null   object\n",
      " 1   age         1044 non-null   int64 \n",
      " 2   address     1044 non-null   object\n",
      " 3   famsize     1044 non-null   object\n",
      " 4   Pstatus     1044 non-null   object\n",
      " 5   Medu        1044 non-null   int64 \n",
      " 6   Fedu        1044 non-null   int64 \n",
      " 7   Mjob        1044 non-null   object\n",
      " 8   Fjob        1044 non-null   object\n",
      " 9   reason      1044 non-null   object\n",
      " 10  guardian    1044 non-null   object\n",
      " 11  traveltime  1044 non-null   int64 \n",
      " 12  studytime   1044 non-null   int64 \n",
      " 13  failures    1044 non-null   int64 \n",
      " 14  schoolsup   1044 non-null   object\n",
      " 15  famsup      1044 non-null   object\n",
      " 16  paid        1044 non-null   object\n",
      " 17  activities  1044 non-null   object\n",
      " 18  nursery     1044 non-null   object\n",
      " 19  higher      1044 non-null   object\n",
      " 20  internet    1044 non-null   object\n",
      " 21  romantic    1044 non-null   object\n",
      " 22  famrel      1044 non-null   int64 \n",
      " 23  freetime    1044 non-null   int64 \n",
      " 24  goout       1044 non-null   int64 \n",
      " 25  Dalc        1044 non-null   int64 \n",
      " 26  Walc        1044 non-null   int64 \n",
      " 27  health      1044 non-null   int64 \n",
      " 28  absences    1044 non-null   int64 \n",
      " 29  G1          1044 non-null   int64 \n",
      " 30  G2          1044 non-null   int64 \n",
      " 31  G3          1044 non-null   int64 \n",
      "dtypes: int64(16), object(16)\n",
      "memory usage: 269.2+ KB\n"
     ]
    }
   ],
   "source": [
    "print(student_data.duplicated().sum())\n",
    "student_data.drop_duplicates()\n",
    "student_data.info()"
   ]
  },
  {
   "cell_type": "code",
   "execution_count": 47,
   "metadata": {},
   "outputs": [],
   "source": [
    "#sns.catplot(x=\"sex\", y=\"studytime\", data=student_data, kind=\"box\", aspect=1.5)\n",
    "#sns.catplot(x=\"paid\", y=\"G1\", data=student_data, kind=\"box\", aspect=1.5)\n",
    "#plt.show()"
   ]
  },
  {
   "cell_type": "code",
   "execution_count": 48,
   "metadata": {},
   "outputs": [
    {
     "data": {
      "text/plain": [
       "<Axes: >"
      ]
     },
     "execution_count": 48,
     "metadata": {},
     "output_type": "execute_result"
    },
    {
     "data": {
      "image/png": "[encoded data removed]",
      "text/plain": [
       "<Figure size 640x480 with 1 Axes>"
      ]
     },
     "metadata": {},
     "output_type": "display_data"
    }
   ],
   "source": [
    "sns.heatmap(student_data.isnull(), yticklabels = False, cbar=False, cmap='viridis')"
   ]
  },
  {
   "cell_type": "markdown",
   "metadata": {},
   "source": [
    "Não há missing values"
   ]
  },
  {
   "cell_type": "markdown",
   "metadata": {},
   "source": [
    "### Outliers"
   ]
  },
  {
   "cell_type": "code",
   "execution_count": 49,
   "metadata": {},
   "outputs": [
    {
     "data": {
      "text/plain": [
       "sex            2\n",
       "age            8\n",
       "address        2\n",
       "famsize        2\n",
       "Pstatus        2\n",
       "Medu           5\n",
       "Fedu           5\n",
       "Mjob           5\n",
       "Fjob           5\n",
       "reason         4\n",
       "guardian       3\n",
       "traveltime     4\n",
       "studytime      4\n",
       "failures       4\n",
       "schoolsup      2\n",
       "famsup         2\n",
       "paid           2\n",
       "activities     2\n",
       "nursery        2\n",
       "higher         2\n",
       "internet       2\n",
       "romantic       2\n",
       "famrel         5\n",
       "freetime       5\n",
       "goout          5\n",
       "Dalc           5\n",
       "Walc           5\n",
       "health         5\n",
       "absences      35\n",
       "G1            18\n",
       "G2            17\n",
       "G3            19\n",
       "dtype: int64"
      ]
     },
     "execution_count": 49,
     "metadata": {},
     "output_type": "execute_result"
    }
   ],
   "source": [
    "student_data.nunique()"
   ]
  },
  {
   "cell_type": "code",
   "execution_count": 50,
   "metadata": {},
   "outputs": [
    {
     "name": "stderr",
     "output_type": "stream",
     "text": [
      "/home/francisca/miniconda3/envs/daa/lib/python3.10/site-packages/seaborn/_oldcore.py:1498: FutureWarning: is_categorical_dtype is deprecated and will be removed in a future version. Use isinstance(dtype, CategoricalDtype) instead\n",
      "  if pd.api.types.is_categorical_dtype(vector):\n"
     ]
    },
    {
     "data": {
      "text/plain": [
       "<Axes: ylabel='age'>"
      ]
     },
     "execution_count": 50,
     "metadata": {},
     "output_type": "execute_result"
    },
    {
     "data": {
      "image/png": "[encoded data removed]",
      "text/plain": [
       "<Figure size 640x480 with 1 Axes>"
      ]
     },
     "metadata": {},
     "output_type": "display_data"
    }
   ],
   "source": [
    "sns.boxplot(y=student_data['age'])"
   ]
  },
  {
   "cell_type": "code",
   "execution_count": 51,
   "metadata": {},
   "outputs": [
    {
     "name": "stderr",
     "output_type": "stream",
     "text": [
      "/home/francisca/miniconda3/envs/daa/lib/python3.10/site-packages/seaborn/_oldcore.py:1498: FutureWarning: is_categorical_dtype is deprecated and will be removed in a future version. Use isinstance(dtype, CategoricalDtype) instead\n",
      "  if pd.api.types.is_categorical_dtype(vector):\n"
     ]
    },
    {
     "data": {
      "text/plain": [
       "<Axes: ylabel='absences'>"
      ]
     },
     "execution_count": 51,
     "metadata": {},
     "output_type": "execute_result"
    },
    {
     "data": {
      "image/png": "[encoded data removed]",
      "text/plain": [
       "<Figure size 640x480 with 1 Axes>"
      ]
     },
     "metadata": {},
     "output_type": "display_data"
    }
   ],
   "source": [
    "sns.boxplot(y=student_data['absences'])\n"
   ]
  },
  {
   "cell_type": "code",
   "execution_count": 52,
   "metadata": {},
   "outputs": [],
   "source": [
    "# remove outliers from 'absences'\n",
    "student_data = student_data[student_data['absences'] < 45]"
   ]
  },
  {
   "cell_type": "markdown",
   "metadata": {},
   "source": [
    "#### new columns"
   ]
  },
  {
   "cell_type": "code",
   "execution_count": 53,
   "metadata": {},
   "outputs": [],
   "source": [
    "'''\n",
    "new column with the mean of 'walc' and 'dalc'\n",
    "'''\n",
    "\n",
    "#student_data['Malc'] = np.ceil(student_data[['Walc', 'Dalc']].mean(axis=1)).astype(int)\n",
    "#student_data=student_data.drop(['Walc', 'Dalc'] , axis=1) \n",
    "\n",
    "# Assuming 'walc' and 'dalc' columns exist in student_data\n",
    "student_data['Malc'] = (student_data['Dalc'] * 5 + student_data['Walc'] * 2) / 7\n",
    "\n",
    "# If you want to round up to the nearest integer, you can use np.ceil\n",
    "student_data['Malc'] = np.ceil(student_data['Malc']).astype(int)\n",
    "\n"
   ]
  },
  {
   "cell_type": "markdown",
   "metadata": {},
   "source": [
    "Nova coluna 'media dos testes'"
   ]
  },
  {
   "cell_type": "code",
   "execution_count": 54,
   "metadata": {},
   "outputs": [],
   "source": [
    "student_data['meanG'] = np.ceil(student_data[['G1', 'G2', 'G3']].mean(axis=1)).astype(int) \n"
   ]
  },
  {
   "cell_type": "code",
   "execution_count": 55,
   "metadata": {},
   "outputs": [
    {
     "data": {
      "text/html": [
       "<div>\n",
       "<style scoped>\n",
       "    .dataframe tbody tr th:only-of-type {\n",
       "        vertical-align: middle;\n",
       "    }\n",
       "\n",
       "    .dataframe tbody tr th {\n",
       "        vertical-align: top;\n",
       "    }\n",
       "\n",
       "    .dataframe thead th {\n",
       "        text-align: right;\n",
       "    }\n",
       "</style>\n",
       "<table border=\"1\" class=\"dataframe\">\n",
       "  <thead>\n",
       "    <tr style=\"text-align: right;\">\n",
       "      <th></th>\n",
       "      <th>sex</th>\n",
       "      <th>age</th>\n",
       "      <th>address</th>\n",
       "      <th>famsize</th>\n",
       "      <th>Pstatus</th>\n",
       "      <th>Medu</th>\n",
       "      <th>Fedu</th>\n",
       "      <th>Mjob</th>\n",
       "      <th>Fjob</th>\n",
       "      <th>reason</th>\n",
       "      <th>...</th>\n",
       "      <th>goout</th>\n",
       "      <th>Dalc</th>\n",
       "      <th>Walc</th>\n",
       "      <th>health</th>\n",
       "      <th>absences</th>\n",
       "      <th>G1</th>\n",
       "      <th>G2</th>\n",
       "      <th>G3</th>\n",
       "      <th>Malc</th>\n",
       "      <th>meanG</th>\n",
       "    </tr>\n",
       "  </thead>\n",
       "  <tbody>\n",
       "    <tr>\n",
       "      <th>0</th>\n",
       "      <td>F</td>\n",
       "      <td>18</td>\n",
       "      <td>U</td>\n",
       "      <td>GT3</td>\n",
       "      <td>A</td>\n",
       "      <td>4</td>\n",
       "      <td>4</td>\n",
       "      <td>at_home</td>\n",
       "      <td>teacher</td>\n",
       "      <td>course</td>\n",
       "      <td>...</td>\n",
       "      <td>4</td>\n",
       "      <td>1</td>\n",
       "      <td>1</td>\n",
       "      <td>3</td>\n",
       "      <td>6</td>\n",
       "      <td>5</td>\n",
       "      <td>6</td>\n",
       "      <td>6</td>\n",
       "      <td>1</td>\n",
       "      <td>6</td>\n",
       "    </tr>\n",
       "    <tr>\n",
       "      <th>1</th>\n",
       "      <td>F</td>\n",
       "      <td>17</td>\n",
       "      <td>U</td>\n",
       "      <td>GT3</td>\n",
       "      <td>T</td>\n",
       "      <td>1</td>\n",
       "      <td>1</td>\n",
       "      <td>at_home</td>\n",
       "      <td>other</td>\n",
       "      <td>course</td>\n",
       "      <td>...</td>\n",
       "      <td>3</td>\n",
       "      <td>1</td>\n",
       "      <td>1</td>\n",
       "      <td>3</td>\n",
       "      <td>4</td>\n",
       "      <td>5</td>\n",
       "      <td>5</td>\n",
       "      <td>6</td>\n",
       "      <td>1</td>\n",
       "      <td>6</td>\n",
       "    </tr>\n",
       "    <tr>\n",
       "      <th>2</th>\n",
       "      <td>F</td>\n",
       "      <td>15</td>\n",
       "      <td>U</td>\n",
       "      <td>LE3</td>\n",
       "      <td>T</td>\n",
       "      <td>1</td>\n",
       "      <td>1</td>\n",
       "      <td>at_home</td>\n",
       "      <td>other</td>\n",
       "      <td>other</td>\n",
       "      <td>...</td>\n",
       "      <td>2</td>\n",
       "      <td>2</td>\n",
       "      <td>3</td>\n",
       "      <td>3</td>\n",
       "      <td>10</td>\n",
       "      <td>7</td>\n",
       "      <td>8</td>\n",
       "      <td>10</td>\n",
       "      <td>3</td>\n",
       "      <td>9</td>\n",
       "    </tr>\n",
       "    <tr>\n",
       "      <th>3</th>\n",
       "      <td>F</td>\n",
       "      <td>15</td>\n",
       "      <td>U</td>\n",
       "      <td>GT3</td>\n",
       "      <td>T</td>\n",
       "      <td>4</td>\n",
       "      <td>2</td>\n",
       "      <td>health</td>\n",
       "      <td>services</td>\n",
       "      <td>home</td>\n",
       "      <td>...</td>\n",
       "      <td>2</td>\n",
       "      <td>1</td>\n",
       "      <td>1</td>\n",
       "      <td>5</td>\n",
       "      <td>2</td>\n",
       "      <td>15</td>\n",
       "      <td>14</td>\n",
       "      <td>15</td>\n",
       "      <td>1</td>\n",
       "      <td>15</td>\n",
       "    </tr>\n",
       "    <tr>\n",
       "      <th>4</th>\n",
       "      <td>F</td>\n",
       "      <td>16</td>\n",
       "      <td>U</td>\n",
       "      <td>GT3</td>\n",
       "      <td>T</td>\n",
       "      <td>3</td>\n",
       "      <td>3</td>\n",
       "      <td>other</td>\n",
       "      <td>other</td>\n",
       "      <td>home</td>\n",
       "      <td>...</td>\n",
       "      <td>2</td>\n",
       "      <td>1</td>\n",
       "      <td>2</td>\n",
       "      <td>5</td>\n",
       "      <td>4</td>\n",
       "      <td>6</td>\n",
       "      <td>10</td>\n",
       "      <td>10</td>\n",
       "      <td>2</td>\n",
       "      <td>9</td>\n",
       "    </tr>\n",
       "  </tbody>\n",
       "</table>\n",
       "<p>5 rows × 34 columns</p>\n",
       "</div>"
      ],
      "text/plain": [
       "  sex  age address famsize Pstatus  Medu  Fedu     Mjob      Fjob  reason  \\\n",
       "0   F   18       U     GT3       A     4     4  at_home   teacher  course   \n",
       "1   F   17       U     GT3       T     1     1  at_home     other  course   \n",
       "2   F   15       U     LE3       T     1     1  at_home     other   other   \n",
       "3   F   15       U     GT3       T     4     2   health  services    home   \n",
       "4   F   16       U     GT3       T     3     3    other     other    home   \n",
       "\n",
       "   ... goout  Dalc  Walc  health absences  G1  G2  G3 Malc meanG  \n",
       "0  ...     4     1     1       3        6   5   6   6    1     6  \n",
       "1  ...     3     1     1       3        4   5   5   6    1     6  \n",
       "2  ...     2     2     3       3       10   7   8  10    3     9  \n",
       "3  ...     2     1     1       5        2  15  14  15    1    15  \n",
       "4  ...     2     1     2       5        4   6  10  10    2     9  \n",
       "\n",
       "[5 rows x 34 columns]"
      ]
     },
     "execution_count": 55,
     "metadata": {},
     "output_type": "execute_result"
    }
   ],
   "source": [
    "student_data.head()"
   ]
  },
  {
   "cell_type": "markdown",
   "metadata": {},
   "source": [
    "### Correlation"
   ]
  },
  {
   "cell_type": "code",
   "execution_count": 56,
   "metadata": {},
   "outputs": [],
   "source": [
    "df_corr = student_data\n",
    "column_mapping = {\n",
    "    'sex': {'F': 0, 'M': 1},\n",
    "    'famsize': {'LE3': 0, 'GT3': 1},\n",
    "    'Pstatus': {'A': 0, 'T': 1},\n",
    "    'schoolsup': {'no': 0, 'yes': 1},\n",
    "    'famsup': {'no': 0, 'yes': 1},\n",
    "    'paid': {'no': 0, 'yes': 1},\n",
    "    'activities': {'no': 0, 'yes': 1},\n",
    "    'nursery': {'no': 0, 'yes': 1},\n",
    "    'higher': {'no': 0, 'yes': 1},\n",
    "    'internet': {'no': 0, 'yes': 1},\n",
    "    'romantic': {'no': 0, 'yes': 1}\n",
    "}\n",
    "for column, mapping in column_mapping.items():\n",
    "    df_corr[column] = df_corr[column].map(mapping)\n",
    "# Drop columns\n",
    "df_corr.drop(['address', 'Mjob', 'Fjob', 'reason', 'guardian'], axis=1, inplace=True)\n"
   ]
  },
  {
   "cell_type": "code",
   "execution_count": 57,
   "metadata": {
    "scrolled": false
   },
   "outputs": [
    {
     "data": {
      "image/png": "[encoded data removed]",
      "text/plain": [
       "<Figure size 2400x2000 with 2 Axes>"
      ]
     },
     "metadata": {},
     "output_type": "display_data"
    }
   ],
   "source": [
    "corr_matrix = df_corr.corr(numeric_only=True)\n",
    "f,ax = plt.subplots(figsize=(24,20))\n",
    "sns.heatmap(corr_matrix,vmin=-1,vmax=1, square = True, annot = True);"
   ]
  },
  {
   "cell_type": "markdown",
   "metadata": {},
   "source": [
    "##### Top 10 correlations"
   ]
  },
  {
   "cell_type": "code",
   "execution_count": 58,
   "metadata": {
    "scrolled": false
   },
   "outputs": [
    {
     "name": "stdout",
     "output_type": "stream",
     "text": [
      "G2            0.967118\n",
      "G3            0.954420\n",
      "G1            0.923637\n",
      "higher        0.259118\n",
      "Medu          0.227633\n",
      "studytime     0.188553\n",
      "Fedu          0.187082\n",
      "internet      0.114905\n",
      "activities    0.055654\n",
      "famrel        0.052623\n",
      "nursery       0.047883\n",
      "famsup       -0.000777\n",
      "Pstatus      -0.017463\n",
      "sex          -0.030547\n",
      "paid         -0.033548\n",
      "dtype: float64\n"
     ]
    }
   ],
   "source": [
    "top_corr = corr_matrix.unstack()\n",
    "top_corr = top_corr[top_corr != 1]  \n",
    "top_10_corr = top_corr['meanG'].nlargest(15)  # Get the top 10 correlations\n",
    "\n",
    "print(top_10_corr)"
   ]
  },
  {
   "cell_type": "code",
   "execution_count": 59,
   "metadata": {},
   "outputs": [
    {
     "name": "stdout",
     "output_type": "stream",
     "text": [
      "failures     -0.399301\n",
      "Dalc         -0.143539\n",
      "Malc         -0.138140\n",
      "Walc         -0.135820\n",
      "traveltime   -0.133179\n",
      "age          -0.127939\n",
      "goout        -0.110789\n",
      "schoolsup    -0.102479\n",
      "romantic     -0.090445\n",
      "health       -0.076494\n",
      "absences     -0.075405\n",
      "freetime     -0.066121\n",
      "famsize      -0.059095\n",
      "paid         -0.033548\n",
      "sex          -0.030547\n",
      "dtype: float64\n"
     ]
    }
   ],
   "source": [
    "top_down_corr = corr_matrix.unstack()\n",
    "top_down_10_corr = top_corr['meanG'].nsmallest(15)  \n",
    "\n",
    "print(top_down_10_corr)"
   ]
  },
  {
   "cell_type": "markdown",
   "metadata": {},
   "source": [
    "who have higher grades in the first, second, and third periods are less likely to fail school"
   ]
  },
  {
   "cell_type": "code",
   "execution_count": 60,
   "metadata": {
    "tags": []
   },
   "outputs": [],
   "source": [
    "X = df_corr.drop(['meanG', 'famsup', 'sex', 'Pstatus','paid','famsize', 'G1', 'G2', 'G3' ], axis=1)\n",
    "y = df_corr['meanG'] # accuracy de 0.86"
   ]
  },
  {
   "cell_type": "code",
   "execution_count": 61,
   "metadata": {
    "tags": []
   },
   "outputs": [],
   "source": [
    "X_train, X_test, y_train, y_test = train_test_split(X, y, test_size=0.25)\n"
   ]
  },
  {
   "cell_type": "code",
   "execution_count": 62,
   "metadata": {},
   "outputs": [],
   "source": [
    "def calculate_metrics(y_test, y_pred):\n",
    "    # Mean Squared Error (MSE)\n",
    "    mse = metrics.mean_squared_error(y_test, y_pred)\n",
    "    print(f'Mean Squared Error: {mse:.2f}')\n",
    "\n",
    "    # Mean Absolute Error (MAE)\n",
    "    mae = metrics.mean_absolute_error(y_test, y_pred)\n",
    "    print(f'Mean Absolute Error: {mae:.2f}')\n",
    "\n",
    "    # Root Mean Squared Error (RMSE)\n",
    "    rmse = np.sqrt(mse)\n",
    "    print(f'Root Mean Squared Error: {rmse:.2f}')"
   ]
  },
  {
   "cell_type": "code",
   "execution_count": 63,
   "metadata": {},
   "outputs": [],
   "source": [
    "from sklearn.model_selection import learning_curve\n",
    "def learning_curves(estimator, features, target, train_sizes, cv):\n",
    "    train_sizes, train_scores, validation_scores = learning_curve(\n",
    "    estimator, features, target, train_sizes = train_sizes, cv = cv, \n",
    "    scoring = 'neg_mean_squared_error')\n",
    "    \n",
    "    train_scores_mean = -train_scores.mean(axis = 1)\n",
    "    validation_scores_mean = -validation_scores.mean(axis = 1)\n",
    "\n",
    "    plt.plot(train_sizes, train_scores_mean, label = 'Training error')\n",
    "    plt.plot(train_sizes, validation_scores_mean, label = 'Validation error')\n",
    "\n",
    "    plt.ylabel('MSE', fontsize = 14)\n",
    "    plt.xlabel('Training set size', fontsize = 14)\n",
    "    title = 'Learning curves ' \n",
    "    plt.title(title, fontsize = 18, y = 1.03)\n",
    "    plt.legend()\n",
    "    plt.ylim(0,40)"
   ]
  },
  {
   "cell_type": "markdown",
   "metadata": {},
   "source": [
    "### Decision Tree"
   ]
  },
  {
   "cell_type": "code",
   "execution_count": 24,
   "metadata": {
    "tags": []
   },
   "outputs": [],
   "source": [
    "''' decision tree '''\n",
    "clf = DecisionTreeRegressor(max_depth=3,random_state=2021)"
   ]
  },
  {
   "cell_type": "code",
   "execution_count": 25,
   "metadata": {
    "tags": []
   },
   "outputs": [
    {
     "data": {
      "text/html": [
       "<style>#sk-container-id-1 {color: black;}#sk-container-id-1 pre{padding: 0;}#sk-container-id-1 div.sk-toggleable {background-color: white;}#sk-container-id-1 label.sk-toggleable__label {cursor: pointer;display: block;width: 100%;margin-bottom: 0;padding: 0.3em;box-sizing: border-box;text-align: center;}#sk-container-id-1 label.sk-toggleable__label-arrow:before {content: \"▸\";float: left;margin-right: 0.25em;color: #696969;}#sk-container-id-1 label.sk-toggleable__label-arrow:hover:before {color: black;}#sk-container-id-1 div.sk-estimator:hover label.sk-toggleable__label-arrow:before {color: black;}#sk-container-id-1 div.sk-toggleable__content {max-height: 0;max-width: 0;overflow: hidden;text-align: left;background-color: #f0f8ff;}#sk-container-id-1 div.sk-toggleable__content pre {margin: 0.2em;color: black;border-radius: 0.25em;background-color: #f0f8ff;}#sk-container-id-1 input.sk-toggleable__control:checked~div.sk-toggleable__content {max-height: 200px;max-width: 100%;overflow: auto;}#sk-container-id-1 input.sk-toggleable__control:checked~label.sk-toggleable__label-arrow:before {content: \"▾\";}#sk-container-id-1 div.sk-estimator input.sk-toggleable__control:checked~label.sk-toggleable__label {background-color: #d4ebff;}#sk-container-id-1 div.sk-label input.sk-toggleable__control:checked~label.sk-toggleable__label {background-color: #d4ebff;}#sk-container-id-1 input.sk-hidden--visually {border: 0;clip: rect(1px 1px 1px 1px);clip: rect(1px, 1px, 1px, 1px);height: 1px;margin: -1px;overflow: hidden;padding: 0;position: absolute;width: 1px;}#sk-container-id-1 div.sk-estimator {font-family: monospace;background-color: #f0f8ff;border: 1px dotted black;border-radius: 0.25em;box-sizing: border-box;margin-bottom: 0.5em;}#sk-container-id-1 div.sk-estimator:hover {background-color: #d4ebff;}#sk-container-id-1 div.sk-parallel-item::after {content: \"\";width: 100%;border-bottom: 1px solid gray;flex-grow: 1;}#sk-container-id-1 div.sk-label:hover label.sk-toggleable__label {background-color: #d4ebff;}#sk-container-id-1 div.sk-serial::before {content: \"\";position: absolute;border-left: 1px solid gray;box-sizing: border-box;top: 0;bottom: 0;left: 50%;z-index: 0;}#sk-container-id-1 div.sk-serial {display: flex;flex-direction: column;align-items: center;background-color: white;padding-right: 0.2em;padding-left: 0.2em;position: relative;}#sk-container-id-1 div.sk-item {position: relative;z-index: 1;}#sk-container-id-1 div.sk-parallel {display: flex;align-items: stretch;justify-content: center;background-color: white;position: relative;}#sk-container-id-1 div.sk-item::before, #sk-container-id-1 div.sk-parallel-item::before {content: \"\";position: absolute;border-left: 1px solid gray;box-sizing: border-box;top: 0;bottom: 0;left: 50%;z-index: -1;}#sk-container-id-1 div.sk-parallel-item {display: flex;flex-direction: column;z-index: 1;position: relative;background-color: white;}#sk-container-id-1 div.sk-parallel-item:first-child::after {align-self: flex-end;width: 50%;}#sk-container-id-1 div.sk-parallel-item:last-child::after {align-self: flex-start;width: 50%;}#sk-container-id-1 div.sk-parallel-item:only-child::after {width: 0;}#sk-container-id-1 div.sk-dashed-wrapped {border: 1px dashed gray;margin: 0 0.4em 0.5em 0.4em;box-sizing: border-box;padding-bottom: 0.4em;background-color: white;}#sk-container-id-1 div.sk-label label {font-family: monospace;font-weight: bold;display: inline-block;line-height: 1.2em;}#sk-container-id-1 div.sk-label-container {text-align: center;}#sk-container-id-1 div.sk-container {/* jupyter's `normalize.less` sets `[hidden] { display: none; }` but bootstrap.min.css set `[hidden] { display: none !important; }` so we also need the `!important` here to be able to override the default hidden behavior on the sphinx rendered scikit-learn.org. See: https://github.com/scikit-learn/scikit-learn/issues/21755 */display: inline-block !important;position: relative;}#sk-container-id-1 div.sk-text-repr-fallback {display: none;}</style><div id=\"sk-container-id-1\" class=\"sk-top-container\"><div class=\"sk-text-repr-fallback\"><pre>DecisionTreeRegressor(max_depth=3, random_state=2021)</pre><b>In a Jupyter environment, please rerun this cell to show the HTML representation or trust the notebook. <br />On GitHub, the HTML representation is unable to render, please try loading this page with nbviewer.org.</b></div><div class=\"sk-container\" hidden><div class=\"sk-item\"><div class=\"sk-estimator sk-toggleable\"><input class=\"sk-toggleable__control sk-hidden--visually\" id=\"sk-estimator-id-1\" type=\"checkbox\" checked><label for=\"sk-estimator-id-1\" class=\"sk-toggleable__label sk-toggleable__label-arrow\">DecisionTreeRegressor</label><div class=\"sk-toggleable__content\"><pre>DecisionTreeRegressor(max_depth=3, random_state=2021)</pre></div></div></div></div></div>"
      ],
      "text/plain": [
       "DecisionTreeRegressor(max_depth=3, random_state=2021)"
      ]
     },
     "execution_count": 25,
     "metadata": {},
     "output_type": "execute_result"
    }
   ],
   "source": [
    "clf.fit(X_train, y_train)"
   ]
  },
  {
   "cell_type": "code",
   "execution_count": 26,
   "metadata": {
    "tags": []
   },
   "outputs": [],
   "source": [
    "y_pred = clf.predict(X_test)"
   ]
  },
  {
   "cell_type": "code",
   "execution_count": 27,
   "metadata": {},
   "outputs": [
    {
     "name": "stdout",
     "output_type": "stream",
     "text": [
      "Mean Squared Error: 8.85\n",
      "Mean Absolute Error: 2.34\n",
      "Root Mean Squared Error: 2.98\n"
     ]
    }
   ],
   "source": [
    "calculate_metrics(y_test,y_pred)\n"
   ]
  },
  {
   "cell_type": "markdown",
   "metadata": {},
   "source": [
    "### Linear Regression"
   ]
  },
  {
   "cell_type": "code",
   "execution_count": 64,
   "metadata": {},
   "outputs": [
    {
     "data": {
      "text/html": [
       "<style>#sk-container-id-2 {color: black;}#sk-container-id-2 pre{padding: 0;}#sk-container-id-2 div.sk-toggleable {background-color: white;}#sk-container-id-2 label.sk-toggleable__label {cursor: pointer;display: block;width: 100%;margin-bottom: 0;padding: 0.3em;box-sizing: border-box;text-align: center;}#sk-container-id-2 label.sk-toggleable__label-arrow:before {content: \"▸\";float: left;margin-right: 0.25em;color: #696969;}#sk-container-id-2 label.sk-toggleable__label-arrow:hover:before {color: black;}#sk-container-id-2 div.sk-estimator:hover label.sk-toggleable__label-arrow:before {color: black;}#sk-container-id-2 div.sk-toggleable__content {max-height: 0;max-width: 0;overflow: hidden;text-align: left;background-color: #f0f8ff;}#sk-container-id-2 div.sk-toggleable__content pre {margin: 0.2em;color: black;border-radius: 0.25em;background-color: #f0f8ff;}#sk-container-id-2 input.sk-toggleable__control:checked~div.sk-toggleable__content {max-height: 200px;max-width: 100%;overflow: auto;}#sk-container-id-2 input.sk-toggleable__control:checked~label.sk-toggleable__label-arrow:before {content: \"▾\";}#sk-container-id-2 div.sk-estimator input.sk-toggleable__control:checked~label.sk-toggleable__label {background-color: #d4ebff;}#sk-container-id-2 div.sk-label input.sk-toggleable__control:checked~label.sk-toggleable__label {background-color: #d4ebff;}#sk-container-id-2 input.sk-hidden--visually {border: 0;clip: rect(1px 1px 1px 1px);clip: rect(1px, 1px, 1px, 1px);height: 1px;margin: -1px;overflow: hidden;padding: 0;position: absolute;width: 1px;}#sk-container-id-2 div.sk-estimator {font-family: monospace;background-color: #f0f8ff;border: 1px dotted black;border-radius: 0.25em;box-sizing: border-box;margin-bottom: 0.5em;}#sk-container-id-2 div.sk-estimator:hover {background-color: #d4ebff;}#sk-container-id-2 div.sk-parallel-item::after {content: \"\";width: 100%;border-bottom: 1px solid gray;flex-grow: 1;}#sk-container-id-2 div.sk-label:hover label.sk-toggleable__label {background-color: #d4ebff;}#sk-container-id-2 div.sk-serial::before {content: \"\";position: absolute;border-left: 1px solid gray;box-sizing: border-box;top: 0;bottom: 0;left: 50%;z-index: 0;}#sk-container-id-2 div.sk-serial {display: flex;flex-direction: column;align-items: center;background-color: white;padding-right: 0.2em;padding-left: 0.2em;position: relative;}#sk-container-id-2 div.sk-item {position: relative;z-index: 1;}#sk-container-id-2 div.sk-parallel {display: flex;align-items: stretch;justify-content: center;background-color: white;position: relative;}#sk-container-id-2 div.sk-item::before, #sk-container-id-2 div.sk-parallel-item::before {content: \"\";position: absolute;border-left: 1px solid gray;box-sizing: border-box;top: 0;bottom: 0;left: 50%;z-index: -1;}#sk-container-id-2 div.sk-parallel-item {display: flex;flex-direction: column;z-index: 1;position: relative;background-color: white;}#sk-container-id-2 div.sk-parallel-item:first-child::after {align-self: flex-end;width: 50%;}#sk-container-id-2 div.sk-parallel-item:last-child::after {align-self: flex-start;width: 50%;}#sk-container-id-2 div.sk-parallel-item:only-child::after {width: 0;}#sk-container-id-2 div.sk-dashed-wrapped {border: 1px dashed gray;margin: 0 0.4em 0.5em 0.4em;box-sizing: border-box;padding-bottom: 0.4em;background-color: white;}#sk-container-id-2 div.sk-label label {font-family: monospace;font-weight: bold;display: inline-block;line-height: 1.2em;}#sk-container-id-2 div.sk-label-container {text-align: center;}#sk-container-id-2 div.sk-container {/* jupyter's `normalize.less` sets `[hidden] { display: none; }` but bootstrap.min.css set `[hidden] { display: none !important; }` so we also need the `!important` here to be able to override the default hidden behavior on the sphinx rendered scikit-learn.org. See: https://github.com/scikit-learn/scikit-learn/issues/21755 */display: inline-block !important;position: relative;}#sk-container-id-2 div.sk-text-repr-fallback {display: none;}</style><div id=\"sk-container-id-2\" class=\"sk-top-container\"><div class=\"sk-text-repr-fallback\"><pre>LinearRegression()</pre><b>In a Jupyter environment, please rerun this cell to show the HTML representation or trust the notebook. <br />On GitHub, the HTML representation is unable to render, please try loading this page with nbviewer.org.</b></div><div class=\"sk-container\" hidden><div class=\"sk-item\"><div class=\"sk-estimator sk-toggleable\"><input class=\"sk-toggleable__control sk-hidden--visually\" id=\"sk-estimator-id-2\" type=\"checkbox\" checked><label for=\"sk-estimator-id-2\" class=\"sk-toggleable__label sk-toggleable__label-arrow\">LinearRegression</label><div class=\"sk-toggleable__content\"><pre>LinearRegression()</pre></div></div></div></div></div>"
      ],
      "text/plain": [
       "LinearRegression()"
      ]
     },
     "execution_count": 64,
     "metadata": {},
     "output_type": "execute_result"
    }
   ],
   "source": [
    "from sklearn import linear_model\n",
    "\n",
    "# Create linear regression object \n",
    "regr = linear_model.LinearRegression()\n",
    "\n",
    "   \n",
    "# Train the model using the training sets \n",
    "regr.fit(X_train, y_train) \n",
    "   \n"
   ]
  },
  {
   "cell_type": "code",
   "execution_count": 65,
   "metadata": {},
   "outputs": [],
   "source": [
    "y_pred = regr.predict(X_test)"
   ]
  },
  {
   "cell_type": "code",
   "execution_count": 66,
   "metadata": {},
   "outputs": [
    {
     "data": {
      "text/plain": [
       "<matplotlib.collections.PathCollection at 0x7fc9242ac1f0>"
      ]
     },
     "execution_count": 66,
     "metadata": {},
     "output_type": "execute_result"
    },
    {
     "data": {
      "image/png": "[encoded data removed]",
      "text/plain": [
       "<Figure size 640x480 with 1 Axes>"
      ]
     },
     "metadata": {},
     "output_type": "display_data"
    }
   ],
   "source": [
    "plt.scatter(y_test,y_pred)"
   ]
  },
  {
   "cell_type": "code",
   "execution_count": 67,
   "metadata": {},
   "outputs": [
    {
     "name": "stdout",
     "output_type": "stream",
     "text": [
      "Mean Squared Error: 7.94\n",
      "Mean Absolute Error: 2.16\n",
      "Root Mean Squared Error: 2.82\n"
     ]
    }
   ],
   "source": [
    "calculate_metrics(y_test,y_pred)"
   ]
  },
  {
   "cell_type": "code",
   "execution_count": 68,
   "metadata": {},
   "outputs": [
    {
     "name": "stdout",
     "output_type": "stream",
     "text": [
      "Intercept: 11.00\n"
     ]
    }
   ],
   "source": [
    "# The coefficient of determination: 1 is perfect prediction\n",
    "print(\"Intercept: %.2f\" % regr.intercept_)"
   ]
  },
  {
   "cell_type": "markdown",
   "metadata": {},
   "source": [
    "intercept -> representa o valor da variavel dependente (meanG) quando todas as vars independentes sao zeros\n",
    "\n",
    "r-squared value -> mede quao bem as variaveis indepedentes explicam a variedade da var depedente. (1 indica a perfect)"
   ]
  },
  {
   "cell_type": "code",
   "execution_count": 69,
   "metadata": {},
   "outputs": [
    {
     "data": {
      "image/png": "[encoded data removed]",
      "text/plain": [
       "<Figure size 640x480 with 1 Axes>"
      ]
     },
     "metadata": {},
     "output_type": "display_data"
    }
   ],
   "source": [
    "# Plot outputs \n",
    "plt.plot(X_train, y_train, color='blue', marker='o', linestyle='None', label='Training Data')\n",
    "\n",
    "# Plot testing data with a different color\n",
    "plt.plot(X_test, regr.predict(X_test), color='purple', marker='o', linestyle='None', label='Test Predictions')\n",
    "\n",
    "# Show the plot\n",
    "\n",
    "plt.show()"
   ]
  },
  {
   "cell_type": "markdown",
   "metadata": {},
   "source": [
    "test overfitting with Learning Curve"
   ]
  },
  {
   "cell_type": "code",
   "execution_count": 73,
   "metadata": {},
   "outputs": [
    {
     "data": {
      "image/png": "[encoded data removed]",
      "text/plain": [
       "<Figure size 640x480 with 1 Axes>"
      ]
     },
     "metadata": {},
     "output_type": "display_data"
    }
   ],
   "source": [
    "estimator=linear_model.LinearRegression()\n",
    "\n",
    "learning_curves(estimator, X, y,train_sizes=[10,30,50,70,90,110], cv=5)"
   ]
  },
  {
   "cell_type": "markdown",
   "metadata": {},
   "source": [
    "#### with GridSearchCV"
   ]
  },
  {
   "cell_type": "code",
   "execution_count": 35,
   "metadata": {},
   "outputs": [],
   "source": [
    "from sklearn.model_selection import GridSearchCV"
   ]
  },
  {
   "cell_type": "code",
   "execution_count": 36,
   "metadata": {},
   "outputs": [
    {
     "name": "stdout",
     "output_type": "stream",
     "text": [
      "3\n",
      "8\n"
     ]
    }
   ],
   "source": [
    "print(clf.get_depth())\n",
    "print(clf.get_n_leaves())"
   ]
  },
  {
   "cell_type": "code",
   "execution_count": 37,
   "metadata": {},
   "outputs": [],
   "source": [
    "param_grid_dt = {\n",
    "    'fit_intercept': [True, False]\n",
    "}"
   ]
  },
  {
   "cell_type": "markdown",
   "metadata": {},
   "source": [
    "'fit_intercept': Indica se o modelo deve ter um termo independente ou não. Os valores [True, False] indicam que o GridSearchCV testará ambas as opções."
   ]
  },
  {
   "cell_type": "code",
   "execution_count": 38,
   "metadata": {},
   "outputs": [],
   "source": [
    "grid_search = GridSearchCV(regr, param_grid_dt, scoring='neg_mean_squared_error', cv=5)\n"
   ]
  },
  {
   "cell_type": "code",
   "execution_count": 39,
   "metadata": {},
   "outputs": [
    {
     "data": {
      "text/html": [
       "<style>#sk-container-id-3 {color: black;}#sk-container-id-3 pre{padding: 0;}#sk-container-id-3 div.sk-toggleable {background-color: white;}#sk-container-id-3 label.sk-toggleable__label {cursor: pointer;display: block;width: 100%;margin-bottom: 0;padding: 0.3em;box-sizing: border-box;text-align: center;}#sk-container-id-3 label.sk-toggleable__label-arrow:before {content: \"▸\";float: left;margin-right: 0.25em;color: #696969;}#sk-container-id-3 label.sk-toggleable__label-arrow:hover:before {color: black;}#sk-container-id-3 div.sk-estimator:hover label.sk-toggleable__label-arrow:before {color: black;}#sk-container-id-3 div.sk-toggleable__content {max-height: 0;max-width: 0;overflow: hidden;text-align: left;background-color: #f0f8ff;}#sk-container-id-3 div.sk-toggleable__content pre {margin: 0.2em;color: black;border-radius: 0.25em;background-color: #f0f8ff;}#sk-container-id-3 input.sk-toggleable__control:checked~div.sk-toggleable__content {max-height: 200px;max-width: 100%;overflow: auto;}#sk-container-id-3 input.sk-toggleable__control:checked~label.sk-toggleable__label-arrow:before {content: \"▾\";}#sk-container-id-3 div.sk-estimator input.sk-toggleable__control:checked~label.sk-toggleable__label {background-color: #d4ebff;}#sk-container-id-3 div.sk-label input.sk-toggleable__control:checked~label.sk-toggleable__label {background-color: #d4ebff;}#sk-container-id-3 input.sk-hidden--visually {border: 0;clip: rect(1px 1px 1px 1px);clip: rect(1px, 1px, 1px, 1px);height: 1px;margin: -1px;overflow: hidden;padding: 0;position: absolute;width: 1px;}#sk-container-id-3 div.sk-estimator {font-family: monospace;background-color: #f0f8ff;border: 1px dotted black;border-radius: 0.25em;box-sizing: border-box;margin-bottom: 0.5em;}#sk-container-id-3 div.sk-estimator:hover {background-color: #d4ebff;}#sk-container-id-3 div.sk-parallel-item::after {content: \"\";width: 100%;border-bottom: 1px solid gray;flex-grow: 1;}#sk-container-id-3 div.sk-label:hover label.sk-toggleable__label {background-color: #d4ebff;}#sk-container-id-3 div.sk-serial::before {content: \"\";position: absolute;border-left: 1px solid gray;box-sizing: border-box;top: 0;bottom: 0;left: 50%;z-index: 0;}#sk-container-id-3 div.sk-serial {display: flex;flex-direction: column;align-items: center;background-color: white;padding-right: 0.2em;padding-left: 0.2em;position: relative;}#sk-container-id-3 div.sk-item {position: relative;z-index: 1;}#sk-container-id-3 div.sk-parallel {display: flex;align-items: stretch;justify-content: center;background-color: white;position: relative;}#sk-container-id-3 div.sk-item::before, #sk-container-id-3 div.sk-parallel-item::before {content: \"\";position: absolute;border-left: 1px solid gray;box-sizing: border-box;top: 0;bottom: 0;left: 50%;z-index: -1;}#sk-container-id-3 div.sk-parallel-item {display: flex;flex-direction: column;z-index: 1;position: relative;background-color: white;}#sk-container-id-3 div.sk-parallel-item:first-child::after {align-self: flex-end;width: 50%;}#sk-container-id-3 div.sk-parallel-item:last-child::after {align-self: flex-start;width: 50%;}#sk-container-id-3 div.sk-parallel-item:only-child::after {width: 0;}#sk-container-id-3 div.sk-dashed-wrapped {border: 1px dashed gray;margin: 0 0.4em 0.5em 0.4em;box-sizing: border-box;padding-bottom: 0.4em;background-color: white;}#sk-container-id-3 div.sk-label label {font-family: monospace;font-weight: bold;display: inline-block;line-height: 1.2em;}#sk-container-id-3 div.sk-label-container {text-align: center;}#sk-container-id-3 div.sk-container {/* jupyter's `normalize.less` sets `[hidden] { display: none; }` but bootstrap.min.css set `[hidden] { display: none !important; }` so we also need the `!important` here to be able to override the default hidden behavior on the sphinx rendered scikit-learn.org. See: https://github.com/scikit-learn/scikit-learn/issues/21755 */display: inline-block !important;position: relative;}#sk-container-id-3 div.sk-text-repr-fallback {display: none;}</style><div id=\"sk-container-id-3\" class=\"sk-top-container\"><div class=\"sk-text-repr-fallback\"><pre>GridSearchCV(cv=5, estimator=LinearRegression(),\n",
       "             param_grid={&#x27;fit_intercept&#x27;: [True, False]},\n",
       "             scoring=&#x27;neg_mean_squared_error&#x27;)</pre><b>In a Jupyter environment, please rerun this cell to show the HTML representation or trust the notebook. <br />On GitHub, the HTML representation is unable to render, please try loading this page with nbviewer.org.</b></div><div class=\"sk-container\" hidden><div class=\"sk-item sk-dashed-wrapped\"><div class=\"sk-label-container\"><div class=\"sk-label sk-toggleable\"><input class=\"sk-toggleable__control sk-hidden--visually\" id=\"sk-estimator-id-3\" type=\"checkbox\" ><label for=\"sk-estimator-id-3\" class=\"sk-toggleable__label sk-toggleable__label-arrow\">GridSearchCV</label><div class=\"sk-toggleable__content\"><pre>GridSearchCV(cv=5, estimator=LinearRegression(),\n",
       "             param_grid={&#x27;fit_intercept&#x27;: [True, False]},\n",
       "             scoring=&#x27;neg_mean_squared_error&#x27;)</pre></div></div></div><div class=\"sk-parallel\"><div class=\"sk-parallel-item\"><div class=\"sk-item\"><div class=\"sk-label-container\"><div class=\"sk-label sk-toggleable\"><input class=\"sk-toggleable__control sk-hidden--visually\" id=\"sk-estimator-id-4\" type=\"checkbox\" ><label for=\"sk-estimator-id-4\" class=\"sk-toggleable__label sk-toggleable__label-arrow\">estimator: LinearRegression</label><div class=\"sk-toggleable__content\"><pre>LinearRegression()</pre></div></div></div><div class=\"sk-serial\"><div class=\"sk-item\"><div class=\"sk-estimator sk-toggleable\"><input class=\"sk-toggleable__control sk-hidden--visually\" id=\"sk-estimator-id-5\" type=\"checkbox\" ><label for=\"sk-estimator-id-5\" class=\"sk-toggleable__label sk-toggleable__label-arrow\">LinearRegression</label><div class=\"sk-toggleable__content\"><pre>LinearRegression()</pre></div></div></div></div></div></div></div></div></div></div>"
      ],
      "text/plain": [
       "GridSearchCV(cv=5, estimator=LinearRegression(),\n",
       "             param_grid={'fit_intercept': [True, False]},\n",
       "             scoring='neg_mean_squared_error')"
      ]
     },
     "execution_count": 39,
     "metadata": {},
     "output_type": "execute_result"
    }
   ],
   "source": [
    "grid_search.fit(X_train, y_train)"
   ]
  },
  {
   "cell_type": "code",
   "execution_count": 40,
   "metadata": {},
   "outputs": [
    {
     "name": "stdout",
     "output_type": "stream",
     "text": [
      "Melhores parâmetros:  {'fit_intercept': True}\n"
     ]
    }
   ],
   "source": [
    "print(\"Melhores parâmetros: \", grid_search.best_params_)"
   ]
  },
  {
   "cell_type": "code",
   "execution_count": 41,
   "metadata": {},
   "outputs": [
    {
     "name": "stdout",
     "output_type": "stream",
     "text": [
      "Mean Squared Error: 8.26\n",
      "Mean Absolute Error: 2.25\n",
      "Root Mean Squared Error: 2.87\n"
     ]
    }
   ],
   "source": [
    "y_pred = grid_search.predict(X_test)\n",
    "calculate_metrics(y_test, y_pred)"
   ]
  },
  {
   "cell_type": "markdown",
   "metadata": {},
   "source": [
    "### Random Forest"
   ]
  },
  {
   "cell_type": "markdown",
   "metadata": {},
   "source": [
    "O random forest é um algortimo que tem por base usar vários resultados de árvores diferentes para chegar à conclusão do resultado final. Em analogia é como pedir opinião a mais do que uma pessoa sobre um determinado tema, e a opinião que mais gente tiver é a escolhida.\n",
    "O algoritmo em si baseia-se em árvores de decisão que são criadas como partição de uma primeira árvore. \n",
    "O Random Forest usa _bagging_, sendo que este fuciona da seguinte forma.\n",
    "1. **Seleção do subset** : Escolhe um sample random do dataset.\n",
    "2. **Bootstrap sampling**: Cada modelo é criado a partir deste samples, ou subsets.\n",
    "3. **Bootstrapping**: É o passo de row sampling com replacement."
   ]
  },
  {
   "cell_type": "code",
   "execution_count": 42,
   "metadata": {},
   "outputs": [
    {
     "data": {
      "text/html": [
       "<div>\n",
       "<style scoped>\n",
       "    .dataframe tbody tr th:only-of-type {\n",
       "        vertical-align: middle;\n",
       "    }\n",
       "\n",
       "    .dataframe tbody tr th {\n",
       "        vertical-align: top;\n",
       "    }\n",
       "\n",
       "    .dataframe thead th {\n",
       "        text-align: right;\n",
       "    }\n",
       "</style>\n",
       "<table border=\"1\" class=\"dataframe\">\n",
       "  <thead>\n",
       "    <tr style=\"text-align: right;\">\n",
       "      <th></th>\n",
       "      <th>sex</th>\n",
       "      <th>age</th>\n",
       "      <th>famsize</th>\n",
       "      <th>Pstatus</th>\n",
       "      <th>Medu</th>\n",
       "      <th>Fedu</th>\n",
       "      <th>traveltime</th>\n",
       "      <th>studytime</th>\n",
       "      <th>failures</th>\n",
       "      <th>schoolsup</th>\n",
       "      <th>...</th>\n",
       "      <th>goout</th>\n",
       "      <th>Dalc</th>\n",
       "      <th>Walc</th>\n",
       "      <th>health</th>\n",
       "      <th>absences</th>\n",
       "      <th>G1</th>\n",
       "      <th>G2</th>\n",
       "      <th>G3</th>\n",
       "      <th>Malc</th>\n",
       "      <th>meanG</th>\n",
       "    </tr>\n",
       "  </thead>\n",
       "  <tbody>\n",
       "    <tr>\n",
       "      <th>count</th>\n",
       "      <td>1041.000000</td>\n",
       "      <td>1041.000000</td>\n",
       "      <td>1041.000000</td>\n",
       "      <td>1041.000000</td>\n",
       "      <td>1041.000000</td>\n",
       "      <td>1041.000000</td>\n",
       "      <td>1041.000000</td>\n",
       "      <td>1041.000000</td>\n",
       "      <td>1041.000000</td>\n",
       "      <td>1041.000000</td>\n",
       "      <td>...</td>\n",
       "      <td>1041.000000</td>\n",
       "      <td>1041.000000</td>\n",
       "      <td>1041.000000</td>\n",
       "      <td>1041.000000</td>\n",
       "      <td>1041.000000</td>\n",
       "      <td>1041.000000</td>\n",
       "      <td>1041.000000</td>\n",
       "      <td>1041.000000</td>\n",
       "      <td>1041.000000</td>\n",
       "      <td>1041.000000</td>\n",
       "    </tr>\n",
       "    <tr>\n",
       "      <th>mean</th>\n",
       "      <td>0.435159</td>\n",
       "      <td>16.725264</td>\n",
       "      <td>0.707012</td>\n",
       "      <td>0.884726</td>\n",
       "      <td>2.602305</td>\n",
       "      <td>2.387128</td>\n",
       "      <td>1.523535</td>\n",
       "      <td>1.970221</td>\n",
       "      <td>0.265130</td>\n",
       "      <td>0.113353</td>\n",
       "      <td>...</td>\n",
       "      <td>3.158501</td>\n",
       "      <td>1.493756</td>\n",
       "      <td>2.283381</td>\n",
       "      <td>3.542747</td>\n",
       "      <td>4.269933</td>\n",
       "      <td>11.217099</td>\n",
       "      <td>11.249760</td>\n",
       "      <td>11.347743</td>\n",
       "      <td>2.013449</td>\n",
       "      <td>11.602305</td>\n",
       "    </tr>\n",
       "    <tr>\n",
       "      <th>std</th>\n",
       "      <td>0.496016</td>\n",
       "      <td>1.240900</td>\n",
       "      <td>0.455352</td>\n",
       "      <td>0.319506</td>\n",
       "      <td>1.126326</td>\n",
       "      <td>1.101130</td>\n",
       "      <td>0.732273</td>\n",
       "      <td>0.835554</td>\n",
       "      <td>0.656934</td>\n",
       "      <td>0.317176</td>\n",
       "      <td>...</td>\n",
       "      <td>1.152275</td>\n",
       "      <td>0.912630</td>\n",
       "      <td>1.285048</td>\n",
       "      <td>1.423142</td>\n",
       "      <td>5.379729</td>\n",
       "      <td>2.986659</td>\n",
       "      <td>3.288246</td>\n",
       "      <td>3.868278</td>\n",
       "      <td>1.045049</td>\n",
       "      <td>3.226595</td>\n",
       "    </tr>\n",
       "    <tr>\n",
       "      <th>min</th>\n",
       "      <td>0.000000</td>\n",
       "      <td>15.000000</td>\n",
       "      <td>0.000000</td>\n",
       "      <td>0.000000</td>\n",
       "      <td>0.000000</td>\n",
       "      <td>0.000000</td>\n",
       "      <td>1.000000</td>\n",
       "      <td>1.000000</td>\n",
       "      <td>0.000000</td>\n",
       "      <td>0.000000</td>\n",
       "      <td>...</td>\n",
       "      <td>1.000000</td>\n",
       "      <td>1.000000</td>\n",
       "      <td>1.000000</td>\n",
       "      <td>1.000000</td>\n",
       "      <td>0.000000</td>\n",
       "      <td>0.000000</td>\n",
       "      <td>0.000000</td>\n",
       "      <td>0.000000</td>\n",
       "      <td>1.000000</td>\n",
       "      <td>2.000000</td>\n",
       "    </tr>\n",
       "    <tr>\n",
       "      <th>25%</th>\n",
       "      <td>0.000000</td>\n",
       "      <td>16.000000</td>\n",
       "      <td>0.000000</td>\n",
       "      <td>1.000000</td>\n",
       "      <td>2.000000</td>\n",
       "      <td>1.000000</td>\n",
       "      <td>1.000000</td>\n",
       "      <td>1.000000</td>\n",
       "      <td>0.000000</td>\n",
       "      <td>0.000000</td>\n",
       "      <td>...</td>\n",
       "      <td>2.000000</td>\n",
       "      <td>1.000000</td>\n",
       "      <td>1.000000</td>\n",
       "      <td>3.000000</td>\n",
       "      <td>0.000000</td>\n",
       "      <td>9.000000</td>\n",
       "      <td>9.000000</td>\n",
       "      <td>10.000000</td>\n",
       "      <td>1.000000</td>\n",
       "      <td>10.000000</td>\n",
       "    </tr>\n",
       "    <tr>\n",
       "      <th>50%</th>\n",
       "      <td>0.000000</td>\n",
       "      <td>17.000000</td>\n",
       "      <td>1.000000</td>\n",
       "      <td>1.000000</td>\n",
       "      <td>3.000000</td>\n",
       "      <td>2.000000</td>\n",
       "      <td>1.000000</td>\n",
       "      <td>2.000000</td>\n",
       "      <td>0.000000</td>\n",
       "      <td>0.000000</td>\n",
       "      <td>...</td>\n",
       "      <td>3.000000</td>\n",
       "      <td>1.000000</td>\n",
       "      <td>2.000000</td>\n",
       "      <td>4.000000</td>\n",
       "      <td>2.000000</td>\n",
       "      <td>11.000000</td>\n",
       "      <td>11.000000</td>\n",
       "      <td>11.000000</td>\n",
       "      <td>2.000000</td>\n",
       "      <td>12.000000</td>\n",
       "    </tr>\n",
       "    <tr>\n",
       "      <th>75%</th>\n",
       "      <td>1.000000</td>\n",
       "      <td>18.000000</td>\n",
       "      <td>1.000000</td>\n",
       "      <td>1.000000</td>\n",
       "      <td>4.000000</td>\n",
       "      <td>3.000000</td>\n",
       "      <td>2.000000</td>\n",
       "      <td>2.000000</td>\n",
       "      <td>0.000000</td>\n",
       "      <td>0.000000</td>\n",
       "      <td>...</td>\n",
       "      <td>4.000000</td>\n",
       "      <td>2.000000</td>\n",
       "      <td>3.000000</td>\n",
       "      <td>5.000000</td>\n",
       "      <td>6.000000</td>\n",
       "      <td>13.000000</td>\n",
       "      <td>13.000000</td>\n",
       "      <td>14.000000</td>\n",
       "      <td>3.000000</td>\n",
       "      <td>14.000000</td>\n",
       "    </tr>\n",
       "    <tr>\n",
       "      <th>max</th>\n",
       "      <td>1.000000</td>\n",
       "      <td>22.000000</td>\n",
       "      <td>1.000000</td>\n",
       "      <td>1.000000</td>\n",
       "      <td>4.000000</td>\n",
       "      <td>4.000000</td>\n",
       "      <td>4.000000</td>\n",
       "      <td>4.000000</td>\n",
       "      <td>3.000000</td>\n",
       "      <td>1.000000</td>\n",
       "      <td>...</td>\n",
       "      <td>5.000000</td>\n",
       "      <td>5.000000</td>\n",
       "      <td>5.000000</td>\n",
       "      <td>5.000000</td>\n",
       "      <td>40.000000</td>\n",
       "      <td>19.000000</td>\n",
       "      <td>19.000000</td>\n",
       "      <td>20.000000</td>\n",
       "      <td>5.000000</td>\n",
       "      <td>20.000000</td>\n",
       "    </tr>\n",
       "  </tbody>\n",
       "</table>\n",
       "<p>8 rows × 29 columns</p>\n",
       "</div>"
      ],
      "text/plain": [
       "               sex          age      famsize      Pstatus         Medu  \\\n",
       "count  1041.000000  1041.000000  1041.000000  1041.000000  1041.000000   \n",
       "mean      0.435159    16.725264     0.707012     0.884726     2.602305   \n",
       "std       0.496016     1.240900     0.455352     0.319506     1.126326   \n",
       "min       0.000000    15.000000     0.000000     0.000000     0.000000   \n",
       "25%       0.000000    16.000000     0.000000     1.000000     2.000000   \n",
       "50%       0.000000    17.000000     1.000000     1.000000     3.000000   \n",
       "75%       1.000000    18.000000     1.000000     1.000000     4.000000   \n",
       "max       1.000000    22.000000     1.000000     1.000000     4.000000   \n",
       "\n",
       "              Fedu   traveltime    studytime     failures    schoolsup  ...  \\\n",
       "count  1041.000000  1041.000000  1041.000000  1041.000000  1041.000000  ...   \n",
       "mean      2.387128     1.523535     1.970221     0.265130     0.113353  ...   \n",
       "std       1.101130     0.732273     0.835554     0.656934     0.317176  ...   \n",
       "min       0.000000     1.000000     1.000000     0.000000     0.000000  ...   \n",
       "25%       1.000000     1.000000     1.000000     0.000000     0.000000  ...   \n",
       "50%       2.000000     1.000000     2.000000     0.000000     0.000000  ...   \n",
       "75%       3.000000     2.000000     2.000000     0.000000     0.000000  ...   \n",
       "max       4.000000     4.000000     4.000000     3.000000     1.000000  ...   \n",
       "\n",
       "             goout         Dalc         Walc       health     absences  \\\n",
       "count  1041.000000  1041.000000  1041.000000  1041.000000  1041.000000   \n",
       "mean      3.158501     1.493756     2.283381     3.542747     4.269933   \n",
       "std       1.152275     0.912630     1.285048     1.423142     5.379729   \n",
       "min       1.000000     1.000000     1.000000     1.000000     0.000000   \n",
       "25%       2.000000     1.000000     1.000000     3.000000     0.000000   \n",
       "50%       3.000000     1.000000     2.000000     4.000000     2.000000   \n",
       "75%       4.000000     2.000000     3.000000     5.000000     6.000000   \n",
       "max       5.000000     5.000000     5.000000     5.000000    40.000000   \n",
       "\n",
       "                G1           G2           G3         Malc        meanG  \n",
       "count  1041.000000  1041.000000  1041.000000  1041.000000  1041.000000  \n",
       "mean     11.217099    11.249760    11.347743     2.013449    11.602305  \n",
       "std       2.986659     3.288246     3.868278     1.045049     3.226595  \n",
       "min       0.000000     0.000000     0.000000     1.000000     2.000000  \n",
       "25%       9.000000     9.000000    10.000000     1.000000    10.000000  \n",
       "50%      11.000000    11.000000    11.000000     2.000000    12.000000  \n",
       "75%      13.000000    13.000000    14.000000     3.000000    14.000000  \n",
       "max      19.000000    19.000000    20.000000     5.000000    20.000000  \n",
       "\n",
       "[8 rows x 29 columns]"
      ]
     },
     "execution_count": 42,
     "metadata": {},
     "output_type": "execute_result"
    }
   ],
   "source": [
    "random_forest = student_data.copy()\n",
    "random_forest.describe()"
   ]
  },
  {
   "cell_type": "code",
   "execution_count": 43,
   "metadata": {},
   "outputs": [],
   "source": [
    "labels = np.array(random_forest['meanG'])\n",
    "random_forest = random_forest.drop('meanG', axis=1)"
   ]
  },
  {
   "cell_type": "code",
   "execution_count": 44,
   "metadata": {},
   "outputs": [],
   "source": [
    "random_forest = random_forest.drop('G1', axis=1)\n",
    "random_forest = random_forest.drop('G2', axis=1)\n",
    "random_forest = random_forest.drop('G3', axis=1)\n",
    "random_forest_list = list(random_forest.columns)\n",
    "random_forest = np.array(random_forest)"
   ]
  },
  {
   "cell_type": "code",
   "execution_count": 45,
   "metadata": {},
   "outputs": [],
   "source": [
    "from sklearn.model_selection import train_test_split\n",
    "# Split the data into training and testing sets\n",
    "train_features, test_features, train_labels, test_labels = train_test_split(random_forest, labels, test_size = 0.20, random_state = 42)"
   ]
  },
  {
   "cell_type": "code",
   "execution_count": 46,
   "metadata": {},
   "outputs": [
    {
     "name": "stdout",
     "output_type": "stream",
     "text": [
      "Training Features Shape: (832, 25)\n",
      "Training Labels Shape: (832,)\n",
      "Testing Features Shape: (209, 25)\n",
      "Testing Labels Shape: (209,)\n"
     ]
    }
   ],
   "source": [
    "print('Training Features Shape:', train_features.shape)\n",
    "print('Training Labels Shape:', train_labels.shape)\n",
    "print('Testing Features Shape:', test_features.shape)\n",
    "print('Testing Labels Shape:', test_labels.shape)"
   ]
  },
  {
   "cell_type": "code",
   "execution_count": 75,
   "metadata": {},
   "outputs": [
    {
     "ename": "NameError",
     "evalue": "name 'train_features' is not defined",
     "output_type": "error",
     "traceback": [
      "\u001b[0;31m---------------------------------------------------------------------------\u001b[0m",
      "\u001b[0;31mNameError\u001b[0m                                 Traceback (most recent call last)",
      "\u001b[1;32m/home/francisca/Desktop/mei/DAA/DAA-TP/StudentModel/student.ipynb Cell 65\u001b[0m line \u001b[0;36m6\n\u001b[1;32m      <a href='vscode-notebook-cell:/home/francisca/Desktop/mei/DAA/DAA-TP/StudentModel/student.ipynb#Y125sZmlsZQ%3D%3D?line=3'>4</a>\u001b[0m rf \u001b[39m=\u001b[39m RandomForestRegressor(n_estimators \u001b[39m=\u001b[39m \u001b[39m1000\u001b[39m, random_state \u001b[39m=\u001b[39m \u001b[39m42\u001b[39m)\n\u001b[1;32m      <a href='vscode-notebook-cell:/home/francisca/Desktop/mei/DAA/DAA-TP/StudentModel/student.ipynb#Y125sZmlsZQ%3D%3D?line=4'>5</a>\u001b[0m \u001b[39m# Train the model on training data\u001b[39;00m\n\u001b[0;32m----> <a href='vscode-notebook-cell:/home/francisca/Desktop/mei/DAA/DAA-TP/StudentModel/student.ipynb#Y125sZmlsZQ%3D%3D?line=5'>6</a>\u001b[0m rf\u001b[39m.\u001b[39mfit(train_features, train_labels);\n",
      "\u001b[0;31mNameError\u001b[0m: name 'train_features' is not defined"
     ]
    }
   ],
   "source": [
    "from sklearn.ensemble import RandomForestRegressor\n",
    "# Instantiate model with 1000 decision trees\n",
    "rf = RandomForestRegressor(n_estimators = 1000, random_state = 42)\n",
    "rf.fit(train_features, train_labels);"
   ]
  },
  {
   "cell_type": "code",
   "execution_count": 48,
   "metadata": {},
   "outputs": [
    {
     "name": "stdout",
     "output_type": "stream",
     "text": [
      "Mean Absolute Error: 2.25 v.\n"
     ]
    }
   ],
   "source": [
    "# Use the forest's predict method on the test data\n",
    "predictions = rf.predict(test_features)\n",
    "# Calculate the absolute errors\n",
    "\n",
    "mae = metrics.mean_absolute_error(y_test, y_pred)\n",
    "# Print out the mean absolute error (mae)\n",
    "print('Mean Absolute Error:', round(mae, 2), 'v.')"
   ]
  },
  {
   "cell_type": "code",
   "execution_count": 49,
   "metadata": {},
   "outputs": [
    {
     "name": "stdout",
     "output_type": "stream",
     "text": [
      "Mean Squared Error: 6.06\n"
     ]
    }
   ],
   "source": [
    "mse = metrics.mean_squared_error(test_labels, predictions)\n",
    "\n",
    "# Print out the mean squared error (mse)\n",
    "print('Mean Squared Error:', round(mse, 2))"
   ]
  },
  {
   "cell_type": "code",
   "execution_count": 50,
   "metadata": {},
   "outputs": [
    {
     "name": "stdout",
     "output_type": "stream",
     "text": [
      "Accuracy: 81.12 %.\n"
     ]
    }
   ],
   "source": [
    "# Calculate mean absolute percentage error (MAPE)\n",
    "errors = abs(predictions - test_labels)\n",
    "\n",
    "mape = 100 * (errors / test_labels)\n",
    "# Calculate and display accuracy\n",
    "accuracy = 100 - np.mean(mape)\n",
    "print('Accuracy:', round(accuracy, 2), '%.')"
   ]
  },
  {
   "cell_type": "code",
   "execution_count": 51,
   "metadata": {},
   "outputs": [
    {
     "name": "stdout",
     "output_type": "stream",
     "text": [
      "Variable: failures             Importance: 0.18\n",
      "Variable: absences             Importance: 0.12\n",
      "Variable: age                  Importance: 0.06\n",
      "Variable: Medu                 Importance: 0.05\n",
      "Variable: Fedu                 Importance: 0.05\n",
      "Variable: freetime             Importance: 0.05\n",
      "Variable: goout                Importance: 0.05\n",
      "Variable: health               Importance: 0.05\n",
      "Variable: traveltime           Importance: 0.04\n",
      "Variable: studytime            Importance: 0.04\n",
      "Variable: famrel               Importance: 0.04\n",
      "Variable: schoolsup            Importance: 0.03\n",
      "Variable: paid                 Importance: 0.03\n",
      "Variable: Walc                 Importance: 0.03\n",
      "Variable: sex                  Importance: 0.02\n",
      "Variable: famsize              Importance: 0.02\n",
      "Variable: famsup               Importance: 0.02\n",
      "Variable: activities           Importance: 0.02\n",
      "Variable: nursery              Importance: 0.02\n",
      "Variable: higher               Importance: 0.02\n",
      "Variable: romantic             Importance: 0.02\n",
      "Variable: Dalc                 Importance: 0.02\n",
      "Variable: Malc                 Importance: 0.02\n",
      "Variable: Pstatus              Importance: 0.01\n",
      "Variable: internet             Importance: 0.01\n"
     ]
    }
   ],
   "source": [
    "# Get numerical feature importances\n",
    "importances = list(rf.feature_importances_)\n",
    "# List of tuples with variable and importance\n",
    "feature_importances = [(feature, round(importance, 2)) for feature, importance in zip(random_forest_list, importances)]\n",
    "# Sort the feature importances by most important first\n",
    "feature_importances = sorted(feature_importances, key = lambda x: x[1], reverse = True)\n",
    "# Print out the feature and importances \n",
    "[print('Variable: {:20} Importance: {}'.format(*pair)) for pair in feature_importances];"
   ]
  },
  {
   "cell_type": "code",
   "execution_count": 52,
   "metadata": {},
   "outputs": [
    {
     "data": {
      "image/png": "[encoded data removed]",
      "text/plain": [
       "<Figure size 640x480 with 1 Axes>"
      ]
     },
     "metadata": {},
     "output_type": "display_data"
    }
   ],
   "source": [
    "import matplotlib.pyplot as plt\n",
    "%matplotlib inline\n",
    "# Set the style\n",
    "plt.style.use('fivethirtyeight')\n",
    "# list of x locations for plotting\n",
    "x_values = list(range(len(importances)))\n",
    "# Make a bar chart\n",
    "plt.bar(x_values, importances, orientation = 'vertical')\n",
    "# Tick labels for x axis\n",
    "plt.xticks(x_values, random_forest_list, rotation='vertical')\n",
    "# Axis labels and title\n",
    "plt.ylabel('Importance'); plt.xlabel('Variable'); plt.title('Variable Importances');"
   ]
  },
  {
   "cell_type": "markdown",
   "metadata": {},
   "source": [
    "##### test overfitting in Random Forest"
   ]
  },
  {
   "cell_type": "code",
   "execution_count": 76,
   "metadata": {},
   "outputs": [
    {
     "data": {
      "image/png": "[encoded data removed]",
      "text/plain": [
       "<Figure size 640x480 with 1 Axes>"
      ]
     },
     "metadata": {},
     "output_type": "display_data"
    }
   ],
   "source": [
    "from sklearn.ensemble import RandomForestRegressor\n",
    "\n",
    "rfOF = RandomForestRegressor(n_estimators = 1000, random_state = 42)\n",
    "learning_curves(rfOF, X,y, train_sizes=[10,30,50,70,90,110], cv=5)"
   ]
  },
  {
   "cell_type": "markdown",
   "metadata": {},
   "source": [
    "### Neural Networks"
   ]
  },
  {
   "cell_type": "code",
   "execution_count": 62,
   "metadata": {},
   "outputs": [],
   "source": [
    "X = df_corr.drop(['meanG', 'famsup', 'sex', 'Pstatus','paid','famsize', 'G1', 'G2', 'G3' ], axis=1)\n",
    "y = df_corr['meanG'] "
   ]
  },
  {
   "cell_type": "code",
   "execution_count": 63,
   "metadata": {},
   "outputs": [],
   "source": [
    "import tensorflow as tf\n",
    "from tensorflow import keras\n",
    "from tensorflow.keras.models import Sequential\n",
    "from tensorflow.keras.layers import Dense\n",
    "from scikeras.wrappers import KerasRegressor"
   ]
  },
  {
   "cell_type": "code",
   "execution_count": 64,
   "metadata": {},
   "outputs": [],
   "source": [
    "def build_model(activation='relu', learning_rate=0.01):\n",
    "    model = Sequential()\n",
    "    model.add(Dense(16,input_dim = 20, activation = activation)) # 20 é o nr de predictions no input\n",
    "    model.add(Dense(8,activation = activation))\n",
    "    model.add(Dense(1,activation = activation)) # output\n",
    "    \n",
    "    #compile \n",
    "    model.compile( loss='mae', optimizer=tf.optimizers.Adam(learning_rate), metrics = ['mae', 'mse'])\n",
    "    return model"
   ]
  },
  {
   "cell_type": "code",
   "execution_count": 65,
   "metadata": {},
   "outputs": [
    {
     "name": "stdout",
     "output_type": "stream",
     "text": [
      "Model: \"sequential_16\"\n",
      "_________________________________________________________________\n",
      " Layer (type)                Output Shape              Param #   \n",
      "=================================================================\n",
      " dense_48 (Dense)            (None, 16)                336       \n",
      "                                                                 \n",
      " dense_49 (Dense)            (None, 8)                 136       \n",
      "                                                                 \n",
      " dense_50 (Dense)            (None, 1)                 9         \n",
      "                                                                 \n",
      "=================================================================\n",
      "Total params: 481\n",
      "Trainable params: 481\n",
      "Non-trainable params: 0\n",
      "_________________________________________________________________\n"
     ]
    }
   ],
   "source": [
    "model = build_model()\n",
    "model.summary()"
   ]
  },
  {
   "cell_type": "code",
   "execution_count": 66,
   "metadata": {},
   "outputs": [],
   "source": [
    "from sklearn.model_selection import KFold"
   ]
  },
  {
   "cell_type": "code",
   "execution_count": 67,
   "metadata": {},
   "outputs": [],
   "source": [
    "\n",
    "optimizer = ['SGD', 'RMSprop', 'Adagrad']\n",
    "param_grid = dict(optimizer=optimizer)\n",
    "\n",
    "kf=KFold(n_splits=5, shuffle = True, random_state=2021)"
   ]
  },
  {
   "cell_type": "code",
   "execution_count": 68,
   "metadata": {},
   "outputs": [],
   "source": [
    "model = KerasRegressor(model = build_model, batch_size=32, validation_split=0.2, epochs=20)\n",
    "\n"
   ]
  },
  {
   "cell_type": "code",
   "execution_count": 69,
   "metadata": {},
   "outputs": [],
   "source": [
    "grid_search = GridSearchCV(estimator=model, param_grid=param_grid, cv = kf, scoring='neg_mean_absolute_error', refit='True', verbose=1)"
   ]
  },
  {
   "cell_type": "code",
   "execution_count": 70,
   "metadata": {},
   "outputs": [
    {
     "name": "stdout",
     "output_type": "stream",
     "text": [
      "Fitting 5 folds for each of 3 candidates, totalling 15 fits\n",
      "Epoch 1/20\n",
      "14/14 [==============================] - 1s 14ms/step - loss: 8.6918 - mae: 8.6918 - mse: 93.2540 - val_loss: 2.8946 - val_mae: 2.8946 - val_mse: 11.9839\n",
      "Epoch 2/20\n",
      "14/14 [==============================] - 0s 3ms/step - loss: 3.5125 - mae: 3.5125 - mse: 20.3332 - val_loss: 3.0610 - val_mae: 3.0610 - val_mse: 13.8788\n",
      "Epoch 3/20\n",
      "14/14 [==============================] - 0s 3ms/step - loss: 2.7606 - mae: 2.7606 - mse: 12.0472 - val_loss: 2.5162 - val_mae: 2.5162 - val_mse: 9.8056\n",
      "Epoch 4/20\n",
      "14/14 [==============================] - 0s 3ms/step - loss: 2.5096 - mae: 2.5096 - mse: 10.3754 - val_loss: 2.5192 - val_mae: 2.5192 - val_mse: 9.8129\n",
      "Epoch 5/20\n",
      "14/14 [==============================] - 0s 3ms/step - loss: 2.4274 - mae: 2.4274 - mse: 10.0935 - val_loss: 2.4955 - val_mae: 2.4955 - val_mse: 9.8243\n",
      "Epoch 6/20\n",
      "14/14 [==============================] - 0s 3ms/step - loss: 2.3617 - mae: 2.3617 - mse: 9.6478 - val_loss: 2.3095 - val_mae: 2.3095 - val_mse: 9.0314\n",
      "Epoch 7/20\n",
      "14/14 [==============================] - 0s 3ms/step - loss: 2.3359 - mae: 2.3359 - mse: 9.5123 - val_loss: 2.2971 - val_mae: 2.2971 - val_mse: 8.8249\n",
      "Epoch 8/20\n",
      "14/14 [==============================] - 0s 3ms/step - loss: 2.2622 - mae: 2.2622 - mse: 9.0159 - val_loss: 2.2826 - val_mae: 2.2826 - val_mse: 8.7705\n",
      "Epoch 9/20\n",
      "14/14 [==============================] - 0s 3ms/step - loss: 2.2434 - mae: 2.2434 - mse: 8.9042 - val_loss: 2.2805 - val_mae: 2.2805 - val_mse: 8.7803\n",
      "Epoch 10/20\n",
      "14/14 [==============================] - 0s 3ms/step - loss: 2.2382 - mae: 2.2382 - mse: 8.8215 - val_loss: 2.2843 - val_mae: 2.2843 - val_mse: 8.7201\n",
      "Epoch 11/20\n",
      "14/14 [==============================] - 0s 3ms/step - loss: 2.2169 - mae: 2.2169 - mse: 8.7523 - val_loss: 2.3112 - val_mae: 2.3112 - val_mse: 8.8395\n",
      "Epoch 12/20\n",
      "14/14 [==============================] - 0s 3ms/step - loss: 2.2302 - mae: 2.2302 - mse: 8.7680 - val_loss: 2.3383 - val_mae: 2.3383 - val_mse: 8.8751\n",
      "Epoch 13/20\n",
      "14/14 [==============================] - 0s 3ms/step - loss: 2.2496 - mae: 2.2496 - mse: 9.0869 - val_loss: 2.4429 - val_mae: 2.4429 - val_mse: 9.3901\n",
      "Epoch 14/20\n",
      "14/14 [==============================] - 0s 3ms/step - loss: 2.2275 - mae: 2.2275 - mse: 8.9686 - val_loss: 2.3559 - val_mae: 2.3559 - val_mse: 9.0016\n",
      "Epoch 15/20\n",
      "14/14 [==============================] - 0s 3ms/step - loss: 2.3222 - mae: 2.3222 - mse: 9.3220 - val_loss: 2.2883 - val_mae: 2.2883 - val_mse: 9.1097\n",
      "Epoch 16/20\n",
      "14/14 [==============================] - 0s 3ms/step - loss: 2.3667 - mae: 2.3667 - mse: 9.6516 - val_loss: 2.2807 - val_mae: 2.2807 - val_mse: 8.9071\n",
      "Epoch 17/20\n",
      "14/14 [==============================] - 0s 3ms/step - loss: 2.3547 - mae: 2.3547 - mse: 9.6570 - val_loss: 2.4257 - val_mae: 2.4257 - val_mse: 9.3342\n",
      "Epoch 18/20\n",
      "14/14 [==============================] - 0s 3ms/step - loss: 2.3034 - mae: 2.3034 - mse: 9.0620 - val_loss: 2.4842 - val_mae: 2.4842 - val_mse: 9.6550\n",
      "Epoch 19/20\n",
      "14/14 [==============================] - 0s 3ms/step - loss: 2.2112 - mae: 2.2112 - mse: 8.7925 - val_loss: 2.5721 - val_mae: 2.5721 - val_mse: 10.2057\n",
      "Epoch 20/20\n",
      "14/14 [==============================] - 0s 3ms/step - loss: 2.2042 - mae: 2.2042 - mse: 8.6316 - val_loss: 2.2896 - val_mae: 2.2896 - val_mse: 8.6472\n",
      "5/5 [==============================] - 0s 944us/step\n",
      "Epoch 1/20\n",
      "14/14 [==============================] - 1s 13ms/step - loss: 9.3127 - mae: 9.3127 - mse: 98.9861 - val_loss: 5.3172 - val_mae: 5.3172 - val_mse: 35.9905\n",
      "Epoch 2/20\n",
      "14/14 [==============================] - 0s 3ms/step - loss: 3.6485 - mae: 3.6485 - mse: 20.3563 - val_loss: 2.7555 - val_mae: 2.7555 - val_mse: 11.8799\n",
      "Epoch 3/20\n",
      "14/14 [==============================] - 0s 3ms/step - loss: 2.8164 - mae: 2.8164 - mse: 12.6416 - val_loss: 2.6525 - val_mae: 2.6525 - val_mse: 10.5054\n",
      "Epoch 4/20\n",
      "14/14 [==============================] - 0s 3ms/step - loss: 2.5747 - mae: 2.5747 - mse: 10.9169 - val_loss: 2.5534 - val_mae: 2.5534 - val_mse: 10.3215\n",
      "Epoch 5/20\n",
      "14/14 [==============================] - 0s 3ms/step - loss: 2.5337 - mae: 2.5337 - mse: 10.6053 - val_loss: 2.5187 - val_mae: 2.5187 - val_mse: 9.8169\n",
      "Epoch 6/20\n",
      "14/14 [==============================] - 0s 3ms/step - loss: 2.4390 - mae: 2.4390 - mse: 10.0433 - val_loss: 2.4554 - val_mae: 2.4554 - val_mse: 9.8438\n",
      "Epoch 7/20\n",
      "14/14 [==============================] - 0s 3ms/step - loss: 2.4099 - mae: 2.4099 - mse: 10.0675 - val_loss: 2.4099 - val_mae: 2.4099 - val_mse: 9.4076\n",
      "Epoch 8/20\n",
      "14/14 [==============================] - 0s 3ms/step - loss: 2.3435 - mae: 2.3435 - mse: 9.6100 - val_loss: 2.4167 - val_mae: 2.4167 - val_mse: 9.7006\n",
      "Epoch 9/20\n",
      "14/14 [==============================] - 0s 3ms/step - loss: 2.4081 - mae: 2.4081 - mse: 10.2981 - val_loss: 2.5251 - val_mae: 2.5251 - val_mse: 10.0465\n",
      "Epoch 10/20\n",
      "14/14 [==============================] - 0s 3ms/step - loss: 2.3129 - mae: 2.3129 - mse: 9.5718 - val_loss: 2.3766 - val_mae: 2.3766 - val_mse: 9.2987\n",
      "Epoch 11/20\n",
      "14/14 [==============================] - 0s 4ms/step - loss: 2.2690 - mae: 2.2690 - mse: 9.0155 - val_loss: 2.3703 - val_mae: 2.3703 - val_mse: 9.3164\n",
      "Epoch 12/20\n",
      "14/14 [==============================] - 0s 4ms/step - loss: 2.2526 - mae: 2.2526 - mse: 9.0296 - val_loss: 2.3635 - val_mae: 2.3635 - val_mse: 9.2240\n",
      "Epoch 13/20\n",
      "14/14 [==============================] - 0s 5ms/step - loss: 2.2468 - mae: 2.2468 - mse: 8.8152 - val_loss: 2.3945 - val_mae: 2.3945 - val_mse: 9.2387\n",
      "Epoch 14/20\n",
      "14/14 [==============================] - 0s 5ms/step - loss: 2.2304 - mae: 2.2304 - mse: 8.7645 - val_loss: 2.3892 - val_mae: 2.3892 - val_mse: 9.1867\n",
      "Epoch 15/20\n",
      "14/14 [==============================] - 0s 5ms/step - loss: 2.2286 - mae: 2.2286 - mse: 8.6813 - val_loss: 2.3433 - val_mae: 2.3433 - val_mse: 9.2406\n",
      "Epoch 16/20\n",
      "14/14 [==============================] - 0s 3ms/step - loss: 2.2408 - mae: 2.2408 - mse: 8.7772 - val_loss: 2.3836 - val_mae: 2.3836 - val_mse: 9.8011\n",
      "Epoch 17/20\n",
      "14/14 [==============================] - 0s 3ms/step - loss: 2.2509 - mae: 2.2509 - mse: 8.8971 - val_loss: 2.3505 - val_mae: 2.3505 - val_mse: 9.4601\n",
      "Epoch 18/20\n",
      "14/14 [==============================] - 0s 3ms/step - loss: 2.2135 - mae: 2.2135 - mse: 8.8054 - val_loss: 2.3272 - val_mae: 2.3272 - val_mse: 9.1012\n",
      "Epoch 19/20\n",
      "14/14 [==============================] - 0s 3ms/step - loss: 2.1796 - mae: 2.1796 - mse: 8.4669 - val_loss: 2.3668 - val_mae: 2.3668 - val_mse: 9.0780\n",
      "Epoch 20/20\n",
      "14/14 [==============================] - 0s 4ms/step - loss: 2.1861 - mae: 2.1861 - mse: 8.4479 - val_loss: 2.3612 - val_mae: 2.3612 - val_mse: 9.0646\n",
      "5/5 [==============================] - 0s 2ms/step\n",
      "Epoch 1/20\n",
      "14/14 [==============================] - 1s 13ms/step - loss: 11.4907 - mae: 11.4907 - mse: 142.1435 - val_loss: 11.3853 - val_mae: 11.3853 - val_mse: 139.1284\n",
      "Epoch 2/20\n",
      "14/14 [==============================] - 0s 3ms/step - loss: 11.4907 - mae: 11.4907 - mse: 142.1435 - val_loss: 11.3853 - val_mae: 11.3853 - val_mse: 139.1284\n",
      "Epoch 3/20\n",
      "14/14 [==============================] - 0s 3ms/step - loss: 11.4907 - mae: 11.4907 - mse: 142.1435 - val_loss: 11.3853 - val_mae: 11.3853 - val_mse: 139.1284\n",
      "Epoch 4/20\n",
      "14/14 [==============================] - 0s 3ms/step - loss: 11.4907 - mae: 11.4907 - mse: 142.1435 - val_loss: 11.3853 - val_mae: 11.3853 - val_mse: 139.1284\n",
      "Epoch 5/20\n",
      "14/14 [==============================] - 0s 3ms/step - loss: 11.4907 - mae: 11.4907 - mse: 142.1435 - val_loss: 11.3853 - val_mae: 11.3853 - val_mse: 139.1284\n",
      "Epoch 6/20\n",
      "14/14 [==============================] - 0s 3ms/step - loss: 11.4907 - mae: 11.4907 - mse: 142.1435 - val_loss: 11.3853 - val_mae: 11.3853 - val_mse: 139.1284\n",
      "Epoch 7/20\n",
      "14/14 [==============================] - 0s 3ms/step - loss: 11.4907 - mae: 11.4907 - mse: 142.1435 - val_loss: 11.3853 - val_mae: 11.3853 - val_mse: 139.1284\n",
      "Epoch 8/20\n",
      "14/14 [==============================] - 0s 3ms/step - loss: 11.4907 - mae: 11.4907 - mse: 142.1435 - val_loss: 11.3853 - val_mae: 11.3853 - val_mse: 139.1284\n",
      "Epoch 9/20\n",
      "14/14 [==============================] - 0s 4ms/step - loss: 11.4907 - mae: 11.4907 - mse: 142.1435 - val_loss: 11.3853 - val_mae: 11.3853 - val_mse: 139.1284\n",
      "Epoch 10/20\n",
      "14/14 [==============================] - 0s 4ms/step - loss: 11.4907 - mae: 11.4907 - mse: 142.1435 - val_loss: 11.3853 - val_mae: 11.3853 - val_mse: 139.1284\n",
      "Epoch 11/20\n",
      "14/14 [==============================] - 0s 4ms/step - loss: 11.4907 - mae: 11.4907 - mse: 142.1435 - val_loss: 11.3853 - val_mae: 11.3853 - val_mse: 139.1284\n",
      "Epoch 12/20\n",
      "14/14 [==============================] - 0s 3ms/step - loss: 11.4907 - mae: 11.4907 - mse: 142.1435 - val_loss: 11.3853 - val_mae: 11.3853 - val_mse: 139.1284\n",
      "Epoch 13/20\n",
      "14/14 [==============================] - 0s 3ms/step - loss: 11.4907 - mae: 11.4907 - mse: 142.1435 - val_loss: 11.3853 - val_mae: 11.3853 - val_mse: 139.1284\n",
      "Epoch 14/20\n",
      "14/14 [==============================] - 0s 3ms/step - loss: 11.4907 - mae: 11.4907 - mse: 142.1435 - val_loss: 11.3853 - val_mae: 11.3853 - val_mse: 139.1284\n",
      "Epoch 15/20\n",
      "14/14 [==============================] - 0s 3ms/step - loss: 11.4907 - mae: 11.4907 - mse: 142.1435 - val_loss: 11.3853 - val_mae: 11.3853 - val_mse: 139.1284\n",
      "Epoch 16/20\n",
      "14/14 [==============================] - 0s 3ms/step - loss: 11.4907 - mae: 11.4907 - mse: 142.1435 - val_loss: 11.3853 - val_mae: 11.3853 - val_mse: 139.1284\n",
      "Epoch 17/20\n",
      "14/14 [==============================] - 0s 3ms/step - loss: 11.4907 - mae: 11.4907 - mse: 142.1435 - val_loss: 11.3853 - val_mae: 11.3853 - val_mse: 139.1284\n",
      "Epoch 18/20\n",
      "14/14 [==============================] - 0s 4ms/step - loss: 11.4907 - mae: 11.4907 - mse: 142.1435 - val_loss: 11.3853 - val_mae: 11.3853 - val_mse: 139.1284\n",
      "Epoch 19/20\n",
      "14/14 [==============================] - 0s 5ms/step - loss: 11.4907 - mae: 11.4907 - mse: 142.1435 - val_loss: 11.3853 - val_mae: 11.3853 - val_mse: 139.1284\n",
      "Epoch 20/20\n",
      "14/14 [==============================] - 0s 4ms/step - loss: 11.4907 - mae: 11.4907 - mse: 142.1435 - val_loss: 11.3853 - val_mae: 11.3853 - val_mse: 139.1284\n",
      "5/5 [==============================] - 0s 1ms/step\n",
      "Epoch 1/20\n",
      "14/14 [==============================] - 1s 12ms/step - loss: 5.6109 - mae: 5.6109 - mse: 46.4398 - val_loss: 2.8225 - val_mae: 2.8225 - val_mse: 13.2538\n",
      "Epoch 2/20\n",
      "14/14 [==============================] - 0s 3ms/step - loss: 2.8191 - mae: 2.8191 - mse: 13.1930 - val_loss: 2.5945 - val_mae: 2.5945 - val_mse: 11.7578\n",
      "Epoch 3/20\n",
      "14/14 [==============================] - 0s 3ms/step - loss: 2.5909 - mae: 2.5909 - mse: 11.1611 - val_loss: 2.5621 - val_mae: 2.5621 - val_mse: 11.4593\n",
      "Epoch 4/20\n",
      "14/14 [==============================] - 0s 3ms/step - loss: 2.4541 - mae: 2.4541 - mse: 10.2590 - val_loss: 2.5575 - val_mae: 2.5575 - val_mse: 11.3032\n",
      "Epoch 5/20\n",
      "14/14 [==============================] - 0s 3ms/step - loss: 2.4209 - mae: 2.4209 - mse: 9.8888 - val_loss: 2.4361 - val_mae: 2.4361 - val_mse: 10.3155\n",
      "Epoch 6/20\n",
      "14/14 [==============================] - 0s 3ms/step - loss: 2.2775 - mae: 2.2775 - mse: 9.0277 - val_loss: 2.4462 - val_mae: 2.4462 - val_mse: 10.3215\n",
      "Epoch 7/20\n",
      "14/14 [==============================] - 0s 3ms/step - loss: 2.2131 - mae: 2.2131 - mse: 8.5531 - val_loss: 2.4666 - val_mae: 2.4666 - val_mse: 10.1112\n",
      "Epoch 8/20\n",
      "14/14 [==============================] - 0s 3ms/step - loss: 2.2184 - mae: 2.2184 - mse: 8.5643 - val_loss: 2.4138 - val_mae: 2.4138 - val_mse: 10.0737\n",
      "Epoch 9/20\n",
      "14/14 [==============================] - 0s 3ms/step - loss: 2.2587 - mae: 2.2587 - mse: 8.9729 - val_loss: 2.4328 - val_mae: 2.4328 - val_mse: 10.4561\n",
      "Epoch 10/20\n",
      "14/14 [==============================] - 0s 3ms/step - loss: 2.2179 - mae: 2.2179 - mse: 8.5917 - val_loss: 2.4100 - val_mae: 2.4100 - val_mse: 9.8517\n",
      "Epoch 11/20\n",
      "14/14 [==============================] - 0s 3ms/step - loss: 2.2658 - mae: 2.2658 - mse: 9.0166 - val_loss: 2.4645 - val_mae: 2.4645 - val_mse: 10.0561\n",
      "Epoch 12/20\n",
      "14/14 [==============================] - 0s 4ms/step - loss: 2.2222 - mae: 2.2222 - mse: 8.6797 - val_loss: 2.4449 - val_mae: 2.4449 - val_mse: 10.5105\n",
      "Epoch 13/20\n",
      "14/14 [==============================] - 0s 3ms/step - loss: 2.2253 - mae: 2.2253 - mse: 8.9658 - val_loss: 2.4966 - val_mae: 2.4966 - val_mse: 11.0909\n",
      "Epoch 14/20\n",
      "14/14 [==============================] - 0s 3ms/step - loss: 2.2133 - mae: 2.2133 - mse: 8.4820 - val_loss: 2.4189 - val_mae: 2.4189 - val_mse: 9.9948\n",
      "Epoch 15/20\n",
      "14/14 [==============================] - 0s 4ms/step - loss: 2.1579 - mae: 2.1579 - mse: 8.2792 - val_loss: 2.4338 - val_mae: 2.4338 - val_mse: 9.7754\n",
      "Epoch 16/20\n",
      "14/14 [==============================] - 0s 4ms/step - loss: 2.1628 - mae: 2.1628 - mse: 8.4330 - val_loss: 2.4982 - val_mae: 2.4982 - val_mse: 10.0160\n",
      "Epoch 17/20\n",
      "14/14 [==============================] - 0s 3ms/step - loss: 2.2325 - mae: 2.2325 - mse: 8.6960 - val_loss: 2.3827 - val_mae: 2.3827 - val_mse: 9.5233\n",
      "Epoch 18/20\n",
      "14/14 [==============================] - 0s 3ms/step - loss: 2.2031 - mae: 2.2031 - mse: 8.7250 - val_loss: 2.4221 - val_mae: 2.4221 - val_mse: 9.8512\n",
      "Epoch 19/20\n",
      "14/14 [==============================] - 0s 4ms/step - loss: 2.2304 - mae: 2.2304 - mse: 8.7439 - val_loss: 2.4063 - val_mae: 2.4063 - val_mse: 9.5934\n",
      "Epoch 20/20\n",
      "14/14 [==============================] - 0s 3ms/step - loss: 2.1305 - mae: 2.1305 - mse: 8.1938 - val_loss: 2.3834 - val_mae: 2.3834 - val_mse: 10.0724\n",
      "5/5 [==============================] - 0s 908us/step\n",
      "Epoch 1/20\n",
      "14/14 [==============================] - 1s 11ms/step - loss: 5.9133 - mae: 5.9133 - mse: 51.2494 - val_loss: 2.9129 - val_mae: 2.9129 - val_mse: 12.3549\n",
      "Epoch 2/20\n",
      "14/14 [==============================] - 0s 3ms/step - loss: 3.2581 - mae: 3.2581 - mse: 16.2123 - val_loss: 2.9568 - val_mae: 2.9568 - val_mse: 14.4331\n",
      "Epoch 3/20\n",
      "14/14 [==============================] - 0s 3ms/step - loss: 2.6870 - mae: 2.6870 - mse: 11.7788 - val_loss: 2.6128 - val_mae: 2.6128 - val_mse: 10.5874\n",
      "Epoch 4/20\n",
      "14/14 [==============================] - 0s 3ms/step - loss: 2.4682 - mae: 2.4682 - mse: 10.1957 - val_loss: 2.5028 - val_mae: 2.5028 - val_mse: 10.1591\n",
      "Epoch 5/20\n",
      "14/14 [==============================] - 0s 3ms/step - loss: 2.2744 - mae: 2.2744 - mse: 8.9706 - val_loss: 2.4418 - val_mae: 2.4418 - val_mse: 9.9897\n",
      "Epoch 6/20\n",
      "14/14 [==============================] - 0s 3ms/step - loss: 2.1947 - mae: 2.1947 - mse: 8.3707 - val_loss: 2.4141 - val_mae: 2.4141 - val_mse: 10.0002\n",
      "Epoch 7/20\n",
      "14/14 [==============================] - 0s 3ms/step - loss: 2.1776 - mae: 2.1776 - mse: 8.2479 - val_loss: 2.4676 - val_mae: 2.4676 - val_mse: 11.1793\n",
      "Epoch 8/20\n",
      "14/14 [==============================] - 0s 3ms/step - loss: 2.1626 - mae: 2.1626 - mse: 8.0955 - val_loss: 2.4069 - val_mae: 2.4069 - val_mse: 9.9825\n",
      "Epoch 9/20\n",
      "14/14 [==============================] - 0s 3ms/step - loss: 2.1304 - mae: 2.1304 - mse: 7.7573 - val_loss: 2.4259 - val_mae: 2.4259 - val_mse: 10.6651\n",
      "Epoch 10/20\n",
      "14/14 [==============================] - 0s 3ms/step - loss: 2.2198 - mae: 2.2198 - mse: 8.2867 - val_loss: 2.4115 - val_mae: 2.4115 - val_mse: 10.2466\n",
      "Epoch 11/20\n",
      "14/14 [==============================] - 0s 3ms/step - loss: 2.1113 - mae: 2.1113 - mse: 7.6785 - val_loss: 2.4186 - val_mae: 2.4186 - val_mse: 10.2909\n",
      "Epoch 12/20\n",
      "14/14 [==============================] - 0s 4ms/step - loss: 2.1123 - mae: 2.1123 - mse: 7.5867 - val_loss: 2.4156 - val_mae: 2.4156 - val_mse: 10.6131\n",
      "Epoch 13/20\n",
      "14/14 [==============================] - 0s 4ms/step - loss: 2.1411 - mae: 2.1411 - mse: 7.8452 - val_loss: 2.4162 - val_mae: 2.4162 - val_mse: 10.5900\n",
      "Epoch 14/20\n",
      "14/14 [==============================] - 0s 3ms/step - loss: 2.1036 - mae: 2.1036 - mse: 7.5948 - val_loss: 2.4343 - val_mae: 2.4343 - val_mse: 10.7169\n",
      "Epoch 15/20\n",
      "14/14 [==============================] - 0s 3ms/step - loss: 2.1105 - mae: 2.1105 - mse: 7.8341 - val_loss: 2.5193 - val_mae: 2.5193 - val_mse: 10.2097\n",
      "Epoch 16/20\n",
      "14/14 [==============================] - 0s 3ms/step - loss: 2.1866 - mae: 2.1866 - mse: 8.0146 - val_loss: 2.5526 - val_mae: 2.5526 - val_mse: 10.3703\n",
      "Epoch 17/20\n",
      "14/14 [==============================] - 0s 3ms/step - loss: 2.1758 - mae: 2.1758 - mse: 7.9883 - val_loss: 2.4047 - val_mae: 2.4047 - val_mse: 9.9985\n",
      "Epoch 18/20\n",
      "14/14 [==============================] - 0s 6ms/step - loss: 2.1528 - mae: 2.1528 - mse: 7.8947 - val_loss: 2.4060 - val_mae: 2.4060 - val_mse: 9.9775\n",
      "Epoch 19/20\n",
      "14/14 [==============================] - 0s 3ms/step - loss: 2.1290 - mae: 2.1290 - mse: 7.9205 - val_loss: 2.4409 - val_mae: 2.4409 - val_mse: 9.9730\n",
      "Epoch 20/20\n",
      "14/14 [==============================] - 0s 3ms/step - loss: 2.0764 - mae: 2.0764 - mse: 7.5156 - val_loss: 2.5102 - val_mae: 2.5102 - val_mse: 10.1076\n",
      "5/5 [==============================] - 0s 1ms/step\n",
      "Epoch 1/20\n",
      "14/14 [==============================] - 1s 19ms/step - loss: 5.8470 - mae: 5.8470 - mse: 51.0196 - val_loss: 3.5390 - val_mae: 3.5390 - val_mse: 19.4802\n",
      "Epoch 2/20\n",
      "14/14 [==============================] - 0s 8ms/step - loss: 3.0371 - mae: 3.0371 - mse: 14.8889 - val_loss: 2.8471 - val_mae: 2.8471 - val_mse: 12.3149\n",
      "Epoch 3/20\n",
      "14/14 [==============================] - 0s 6ms/step - loss: 2.7319 - mae: 2.7319 - mse: 11.7270 - val_loss: 2.5530 - val_mae: 2.5530 - val_mse: 10.2617\n",
      "Epoch 4/20\n",
      "14/14 [==============================] - 0s 4ms/step - loss: 2.5771 - mae: 2.5771 - mse: 10.6756 - val_loss: 2.4280 - val_mae: 2.4280 - val_mse: 9.7886\n",
      "Epoch 5/20\n",
      "14/14 [==============================] - 0s 5ms/step - loss: 2.4644 - mae: 2.4644 - mse: 10.2438 - val_loss: 2.3712 - val_mae: 2.3712 - val_mse: 9.4314\n",
      "Epoch 6/20\n",
      "14/14 [==============================] - 0s 6ms/step - loss: 2.3710 - mae: 2.3710 - mse: 9.7164 - val_loss: 2.3367 - val_mae: 2.3367 - val_mse: 9.2428\n",
      "Epoch 7/20\n",
      "14/14 [==============================] - 0s 6ms/step - loss: 2.3039 - mae: 2.3039 - mse: 9.3099 - val_loss: 2.3645 - val_mae: 2.3645 - val_mse: 9.2532\n",
      "Epoch 8/20\n",
      "14/14 [==============================] - 0s 3ms/step - loss: 2.2763 - mae: 2.2763 - mse: 8.9122 - val_loss: 2.3228 - val_mae: 2.3228 - val_mse: 9.3086\n",
      "Epoch 9/20\n",
      "14/14 [==============================] - 0s 3ms/step - loss: 2.2688 - mae: 2.2688 - mse: 8.9095 - val_loss: 2.3348 - val_mae: 2.3348 - val_mse: 9.4936\n",
      "Epoch 10/20\n",
      "14/14 [==============================] - 0s 3ms/step - loss: 2.2222 - mae: 2.2222 - mse: 8.7459 - val_loss: 2.4587 - val_mae: 2.4587 - val_mse: 9.7173\n",
      "Epoch 11/20\n",
      "14/14 [==============================] - 0s 3ms/step - loss: 2.2364 - mae: 2.2364 - mse: 8.6195 - val_loss: 2.3310 - val_mae: 2.3310 - val_mse: 8.9951\n",
      "Epoch 12/20\n",
      "14/14 [==============================] - 0s 3ms/step - loss: 2.2416 - mae: 2.2416 - mse: 8.6235 - val_loss: 2.2921 - val_mae: 2.2921 - val_mse: 8.8456\n",
      "Epoch 13/20\n",
      "14/14 [==============================] - 0s 3ms/step - loss: 2.1730 - mae: 2.1730 - mse: 8.3524 - val_loss: 2.2942 - val_mae: 2.2942 - val_mse: 9.0403\n",
      "Epoch 14/20\n",
      "14/14 [==============================] - 0s 3ms/step - loss: 2.1832 - mae: 2.1832 - mse: 8.4669 - val_loss: 2.3195 - val_mae: 2.3195 - val_mse: 8.9315\n",
      "Epoch 15/20\n",
      "14/14 [==============================] - 0s 3ms/step - loss: 2.1701 - mae: 2.1701 - mse: 8.3773 - val_loss: 2.2829 - val_mae: 2.2829 - val_mse: 9.0316\n",
      "Epoch 16/20\n",
      "14/14 [==============================] - 0s 3ms/step - loss: 2.1399 - mae: 2.1399 - mse: 8.1427 - val_loss: 2.2817 - val_mae: 2.2817 - val_mse: 9.0423\n",
      "Epoch 17/20\n",
      "14/14 [==============================] - 0s 3ms/step - loss: 2.1552 - mae: 2.1552 - mse: 8.2918 - val_loss: 2.2988 - val_mae: 2.2988 - val_mse: 9.3930\n",
      "Epoch 18/20\n",
      "14/14 [==============================] - 0s 4ms/step - loss: 2.1275 - mae: 2.1275 - mse: 8.1180 - val_loss: 2.2838 - val_mae: 2.2838 - val_mse: 8.7686\n",
      "Epoch 19/20\n",
      "14/14 [==============================] - 0s 3ms/step - loss: 2.1011 - mae: 2.1011 - mse: 7.9393 - val_loss: 2.2846 - val_mae: 2.2846 - val_mse: 9.2150\n",
      "Epoch 20/20\n",
      "14/14 [==============================] - 0s 3ms/step - loss: 2.1531 - mae: 2.1531 - mse: 8.3126 - val_loss: 2.2818 - val_mae: 2.2818 - val_mse: 9.0822\n",
      "5/5 [==============================] - 0s 916us/step\n",
      "Epoch 1/20\n",
      "14/14 [==============================] - 1s 11ms/step - loss: 4.6068 - mae: 4.6068 - mse: 34.7202 - val_loss: 2.9181 - val_mae: 2.9181 - val_mse: 12.0292\n",
      "Epoch 2/20\n",
      "14/14 [==============================] - 0s 3ms/step - loss: 2.9830 - mae: 2.9830 - mse: 14.4168 - val_loss: 2.8289 - val_mae: 2.8289 - val_mse: 13.0334\n",
      "Epoch 3/20\n",
      "14/14 [==============================] - 0s 3ms/step - loss: 2.7620 - mae: 2.7620 - mse: 12.5161 - val_loss: 2.7344 - val_mae: 2.7344 - val_mse: 10.9185\n",
      "Epoch 4/20\n",
      "14/14 [==============================] - 0s 3ms/step - loss: 2.6236 - mae: 2.6236 - mse: 11.2170 - val_loss: 2.5854 - val_mae: 2.5854 - val_mse: 9.9452\n",
      "Epoch 5/20\n",
      "14/14 [==============================] - 0s 3ms/step - loss: 2.5470 - mae: 2.5470 - mse: 11.0591 - val_loss: 2.7293 - val_mae: 2.7293 - val_mse: 12.3649\n",
      "Epoch 6/20\n",
      "14/14 [==============================] - 0s 3ms/step - loss: 2.5237 - mae: 2.5237 - mse: 10.4954 - val_loss: 2.4207 - val_mae: 2.4207 - val_mse: 9.7618\n",
      "Epoch 7/20\n",
      "14/14 [==============================] - 0s 5ms/step - loss: 2.4348 - mae: 2.4348 - mse: 9.8521 - val_loss: 2.3550 - val_mae: 2.3550 - val_mse: 9.2878\n",
      "Epoch 8/20\n",
      "14/14 [==============================] - 0s 3ms/step - loss: 2.3102 - mae: 2.3102 - mse: 9.3831 - val_loss: 2.4841 - val_mae: 2.4841 - val_mse: 9.5547\n",
      "Epoch 9/20\n",
      "14/14 [==============================] - 0s 3ms/step - loss: 2.3027 - mae: 2.3027 - mse: 9.1122 - val_loss: 2.3411 - val_mae: 2.3411 - val_mse: 8.8684\n",
      "Epoch 10/20\n",
      "14/14 [==============================] - 0s 3ms/step - loss: 2.2728 - mae: 2.2728 - mse: 8.9606 - val_loss: 2.3043 - val_mae: 2.3043 - val_mse: 8.9934\n",
      "Epoch 11/20\n",
      "14/14 [==============================] - 0s 3ms/step - loss: 2.2483 - mae: 2.2483 - mse: 8.7320 - val_loss: 2.3287 - val_mae: 2.3287 - val_mse: 8.8263\n",
      "Epoch 12/20\n",
      "14/14 [==============================] - 0s 3ms/step - loss: 2.2113 - mae: 2.2113 - mse: 8.5066 - val_loss: 2.3153 - val_mae: 2.3153 - val_mse: 8.8569\n",
      "Epoch 13/20\n",
      "14/14 [==============================] - 0s 3ms/step - loss: 2.2036 - mae: 2.2036 - mse: 8.4726 - val_loss: 2.2980 - val_mae: 2.2980 - val_mse: 8.8809\n",
      "Epoch 14/20\n",
      "14/14 [==============================] - 0s 3ms/step - loss: 2.1966 - mae: 2.1966 - mse: 8.4508 - val_loss: 2.3268 - val_mae: 2.3268 - val_mse: 9.2839\n",
      "Epoch 15/20\n",
      "14/14 [==============================] - 0s 3ms/step - loss: 2.1986 - mae: 2.1986 - mse: 8.3619 - val_loss: 2.3532 - val_mae: 2.3532 - val_mse: 8.9252\n",
      "Epoch 16/20\n",
      "14/14 [==============================] - 0s 3ms/step - loss: 2.2435 - mae: 2.2435 - mse: 8.7007 - val_loss: 2.3976 - val_mae: 2.3976 - val_mse: 9.0954\n",
      "Epoch 17/20\n",
      "14/14 [==============================] - 0s 3ms/step - loss: 2.2158 - mae: 2.2158 - mse: 8.5159 - val_loss: 2.4010 - val_mae: 2.4010 - val_mse: 9.0974\n",
      "Epoch 18/20\n",
      "14/14 [==============================] - 0s 3ms/step - loss: 2.2338 - mae: 2.2338 - mse: 8.5659 - val_loss: 2.3612 - val_mae: 2.3612 - val_mse: 8.9450\n",
      "Epoch 19/20\n",
      "14/14 [==============================] - 0s 3ms/step - loss: 2.1707 - mae: 2.1707 - mse: 8.2405 - val_loss: 2.2929 - val_mae: 2.2929 - val_mse: 9.2329\n",
      "Epoch 20/20\n",
      "14/14 [==============================] - 0s 3ms/step - loss: 2.2131 - mae: 2.2131 - mse: 8.6898 - val_loss: 2.4826 - val_mae: 2.4826 - val_mse: 11.2411\n",
      "5/5 [==============================] - 0s 928us/step\n",
      "Epoch 1/20\n",
      "14/14 [==============================] - 1s 12ms/step - loss: 11.4907 - mae: 11.4907 - mse: 142.1435 - val_loss: 11.3853 - val_mae: 11.3853 - val_mse: 139.1284\n",
      "Epoch 2/20\n",
      "14/14 [==============================] - 0s 3ms/step - loss: 11.4907 - mae: 11.4907 - mse: 142.1435 - val_loss: 11.3853 - val_mae: 11.3853 - val_mse: 139.1284\n",
      "Epoch 3/20\n",
      "14/14 [==============================] - 0s 3ms/step - loss: 11.4907 - mae: 11.4907 - mse: 142.1435 - val_loss: 11.3853 - val_mae: 11.3853 - val_mse: 139.1284\n",
      "Epoch 4/20\n",
      "14/14 [==============================] - 0s 3ms/step - loss: 11.4907 - mae: 11.4907 - mse: 142.1435 - val_loss: 11.3853 - val_mae: 11.3853 - val_mse: 139.1284\n",
      "Epoch 5/20\n",
      "14/14 [==============================] - 0s 3ms/step - loss: 11.4907 - mae: 11.4907 - mse: 142.1435 - val_loss: 11.3853 - val_mae: 11.3853 - val_mse: 139.1284\n",
      "Epoch 6/20\n",
      "14/14 [==============================] - 0s 3ms/step - loss: 11.4907 - mae: 11.4907 - mse: 142.1435 - val_loss: 11.3853 - val_mae: 11.3853 - val_mse: 139.1284\n",
      "Epoch 7/20\n",
      "14/14 [==============================] - 0s 3ms/step - loss: 11.4907 - mae: 11.4907 - mse: 142.1435 - val_loss: 11.3853 - val_mae: 11.3853 - val_mse: 139.1284\n",
      "Epoch 8/20\n",
      "14/14 [==============================] - 0s 3ms/step - loss: 11.4907 - mae: 11.4907 - mse: 142.1435 - val_loss: 11.3853 - val_mae: 11.3853 - val_mse: 139.1284\n",
      "Epoch 9/20\n",
      "14/14 [==============================] - 0s 4ms/step - loss: 11.4907 - mae: 11.4907 - mse: 142.1435 - val_loss: 11.3853 - val_mae: 11.3853 - val_mse: 139.1284\n",
      "Epoch 10/20\n",
      "14/14 [==============================] - 0s 4ms/step - loss: 11.4907 - mae: 11.4907 - mse: 142.1435 - val_loss: 11.3853 - val_mae: 11.3853 - val_mse: 139.1284\n",
      "Epoch 11/20\n",
      "14/14 [==============================] - 0s 4ms/step - loss: 11.4907 - mae: 11.4907 - mse: 142.1435 - val_loss: 11.3853 - val_mae: 11.3853 - val_mse: 139.1284\n",
      "Epoch 12/20\n",
      "14/14 [==============================] - 0s 3ms/step - loss: 11.4907 - mae: 11.4907 - mse: 142.1435 - val_loss: 11.3853 - val_mae: 11.3853 - val_mse: 139.1284\n",
      "Epoch 13/20\n",
      "14/14 [==============================] - 0s 3ms/step - loss: 11.4907 - mae: 11.4907 - mse: 142.1435 - val_loss: 11.3853 - val_mae: 11.3853 - val_mse: 139.1284\n",
      "Epoch 14/20\n",
      "14/14 [==============================] - 0s 3ms/step - loss: 11.4907 - mae: 11.4907 - mse: 142.1435 - val_loss: 11.3853 - val_mae: 11.3853 - val_mse: 139.1284\n",
      "Epoch 15/20\n",
      "14/14 [==============================] - 0s 3ms/step - loss: 11.4907 - mae: 11.4907 - mse: 142.1435 - val_loss: 11.3853 - val_mae: 11.3853 - val_mse: 139.1284\n",
      "Epoch 16/20\n",
      "14/14 [==============================] - 0s 3ms/step - loss: 11.4907 - mae: 11.4907 - mse: 142.1435 - val_loss: 11.3853 - val_mae: 11.3853 - val_mse: 139.1284\n",
      "Epoch 17/20\n",
      "14/14 [==============================] - 0s 3ms/step - loss: 11.4907 - mae: 11.4907 - mse: 142.1435 - val_loss: 11.3853 - val_mae: 11.3853 - val_mse: 139.1284\n",
      "Epoch 18/20\n",
      "14/14 [==============================] - 0s 3ms/step - loss: 11.4907 - mae: 11.4907 - mse: 142.1435 - val_loss: 11.3853 - val_mae: 11.3853 - val_mse: 139.1284\n",
      "Epoch 19/20\n",
      "14/14 [==============================] - 0s 3ms/step - loss: 11.4907 - mae: 11.4907 - mse: 142.1435 - val_loss: 11.3853 - val_mae: 11.3853 - val_mse: 139.1284\n",
      "Epoch 20/20\n",
      "14/14 [==============================] - 0s 4ms/step - loss: 11.4907 - mae: 11.4907 - mse: 142.1435 - val_loss: 11.3853 - val_mae: 11.3853 - val_mse: 139.1284\n",
      "5/5 [==============================] - 0s 911us/step\n",
      "Epoch 1/20\n",
      "14/14 [==============================] - 1s 13ms/step - loss: 5.9558 - mae: 5.9558 - mse: 50.8850 - val_loss: 3.6528 - val_mae: 3.6528 - val_mse: 21.3192\n",
      "Epoch 2/20\n",
      "14/14 [==============================] - 0s 3ms/step - loss: 3.3069 - mae: 3.3069 - mse: 17.8529 - val_loss: 2.9289 - val_mae: 2.9289 - val_mse: 13.1335\n",
      "Epoch 3/20\n",
      "14/14 [==============================] - 0s 3ms/step - loss: 2.8647 - mae: 2.8647 - mse: 12.9532 - val_loss: 2.6561 - val_mae: 2.6561 - val_mse: 11.4880\n",
      "Epoch 4/20\n",
      "14/14 [==============================] - 0s 3ms/step - loss: 2.5478 - mae: 2.5478 - mse: 10.5442 - val_loss: 2.3897 - val_mae: 2.3897 - val_mse: 9.5209\n",
      "Epoch 5/20\n",
      "14/14 [==============================] - 0s 3ms/step - loss: 2.4083 - mae: 2.4083 - mse: 9.7604 - val_loss: 2.3574 - val_mae: 2.3574 - val_mse: 9.3710\n",
      "Epoch 6/20\n",
      "14/14 [==============================] - 0s 3ms/step - loss: 2.3359 - mae: 2.3359 - mse: 9.3359 - val_loss: 2.4108 - val_mae: 2.4108 - val_mse: 10.3079\n",
      "Epoch 7/20\n",
      "14/14 [==============================] - 0s 3ms/step - loss: 2.2948 - mae: 2.2948 - mse: 9.0332 - val_loss: 2.3460 - val_mae: 2.3460 - val_mse: 9.3686\n",
      "Epoch 8/20\n",
      "14/14 [==============================] - 0s 3ms/step - loss: 2.2416 - mae: 2.2416 - mse: 8.7866 - val_loss: 2.3639 - val_mae: 2.3639 - val_mse: 9.3768\n",
      "Epoch 9/20\n",
      "14/14 [==============================] - 0s 3ms/step - loss: 2.2223 - mae: 2.2223 - mse: 8.6801 - val_loss: 2.3948 - val_mae: 2.3948 - val_mse: 10.2074\n",
      "Epoch 10/20\n",
      "14/14 [==============================] - 0s 3ms/step - loss: 2.1877 - mae: 2.1877 - mse: 8.4923 - val_loss: 2.3453 - val_mae: 2.3453 - val_mse: 9.5609\n",
      "Epoch 11/20\n",
      "14/14 [==============================] - 0s 3ms/step - loss: 2.1984 - mae: 2.1984 - mse: 8.4039 - val_loss: 2.3799 - val_mae: 2.3799 - val_mse: 10.0554\n",
      "Epoch 12/20\n",
      "14/14 [==============================] - 0s 3ms/step - loss: 2.1671 - mae: 2.1671 - mse: 8.2870 - val_loss: 2.3474 - val_mae: 2.3474 - val_mse: 9.3761\n",
      "Epoch 13/20\n",
      "14/14 [==============================] - 0s 3ms/step - loss: 2.2185 - mae: 2.2185 - mse: 8.7834 - val_loss: 2.3720 - val_mae: 2.3720 - val_mse: 9.4722\n",
      "Epoch 14/20\n",
      "14/14 [==============================] - 0s 3ms/step - loss: 2.2824 - mae: 2.2824 - mse: 9.2335 - val_loss: 2.3697 - val_mae: 2.3697 - val_mse: 9.5493\n",
      "Epoch 15/20\n",
      "14/14 [==============================] - 0s 4ms/step - loss: 2.2083 - mae: 2.2083 - mse: 8.6460 - val_loss: 2.3585 - val_mae: 2.3585 - val_mse: 9.6361\n",
      "Epoch 16/20\n",
      "14/14 [==============================] - 0s 3ms/step - loss: 2.1494 - mae: 2.1494 - mse: 8.3507 - val_loss: 2.5095 - val_mae: 2.5095 - val_mse: 11.3427\n",
      "Epoch 17/20\n",
      "14/14 [==============================] - 0s 3ms/step - loss: 2.1706 - mae: 2.1706 - mse: 8.1872 - val_loss: 2.3960 - val_mae: 2.3960 - val_mse: 10.1710\n",
      "Epoch 18/20\n",
      "14/14 [==============================] - 0s 3ms/step - loss: 2.3238 - mae: 2.3238 - mse: 9.2167 - val_loss: 2.3567 - val_mae: 2.3567 - val_mse: 9.5467\n",
      "Epoch 19/20\n",
      "14/14 [==============================] - 0s 3ms/step - loss: 2.1223 - mae: 2.1223 - mse: 8.0233 - val_loss: 2.3901 - val_mae: 2.3901 - val_mse: 9.4893\n",
      "Epoch 20/20\n",
      "14/14 [==============================] - 0s 3ms/step - loss: 2.1174 - mae: 2.1174 - mse: 7.9087 - val_loss: 2.3759 - val_mae: 2.3759 - val_mse: 9.4692\n",
      "5/5 [==============================] - 0s 906us/step\n",
      "Epoch 1/20\n",
      "14/14 [==============================] - 1s 12ms/step - loss: 4.4724 - mae: 4.4724 - mse: 31.7603 - val_loss: 3.4795 - val_mae: 3.4795 - val_mse: 18.0848\n",
      "Epoch 2/20\n",
      "14/14 [==============================] - 0s 3ms/step - loss: 3.1789 - mae: 3.1789 - mse: 15.5144 - val_loss: 3.0409 - val_mae: 3.0409 - val_mse: 13.4895\n",
      "Epoch 3/20\n",
      "14/14 [==============================] - 0s 3ms/step - loss: 2.8644 - mae: 2.8644 - mse: 12.7157 - val_loss: 2.8050 - val_mae: 2.8050 - val_mse: 11.9985\n",
      "Epoch 4/20\n",
      "14/14 [==============================] - 0s 3ms/step - loss: 2.6515 - mae: 2.6515 - mse: 11.1074 - val_loss: 2.6763 - val_mae: 2.6763 - val_mse: 11.5628\n",
      "Epoch 5/20\n",
      "14/14 [==============================] - 0s 3ms/step - loss: 2.4834 - mae: 2.4834 - mse: 10.0744 - val_loss: 2.5594 - val_mae: 2.5594 - val_mse: 11.2214\n",
      "Epoch 6/20\n",
      "14/14 [==============================] - 0s 3ms/step - loss: 2.3747 - mae: 2.3747 - mse: 9.5537 - val_loss: 2.5607 - val_mae: 2.5607 - val_mse: 11.7122\n",
      "Epoch 7/20\n",
      "14/14 [==============================] - 0s 4ms/step - loss: 2.3338 - mae: 2.3338 - mse: 9.5049 - val_loss: 2.3885 - val_mae: 2.3885 - val_mse: 9.8163\n",
      "Epoch 8/20\n",
      "14/14 [==============================] - 0s 3ms/step - loss: 2.2916 - mae: 2.2916 - mse: 9.0499 - val_loss: 2.4218 - val_mae: 2.4218 - val_mse: 9.7505\n",
      "Epoch 9/20\n",
      "14/14 [==============================] - 0s 3ms/step - loss: 2.2028 - mae: 2.2028 - mse: 8.3775 - val_loss: 2.4524 - val_mae: 2.4524 - val_mse: 9.8210\n",
      "Epoch 10/20\n",
      "14/14 [==============================] - 0s 3ms/step - loss: 2.2029 - mae: 2.2029 - mse: 8.2891 - val_loss: 2.3910 - val_mae: 2.3910 - val_mse: 9.6868\n",
      "Epoch 11/20\n",
      "14/14 [==============================] - 0s 3ms/step - loss: 2.2059 - mae: 2.2059 - mse: 8.2487 - val_loss: 2.3724 - val_mae: 2.3724 - val_mse: 10.3490\n",
      "Epoch 12/20\n",
      "14/14 [==============================] - 0s 3ms/step - loss: 2.1465 - mae: 2.1465 - mse: 7.9582 - val_loss: 2.4146 - val_mae: 2.4146 - val_mse: 10.9339\n",
      "Epoch 13/20\n",
      "14/14 [==============================] - 0s 3ms/step - loss: 2.1827 - mae: 2.1827 - mse: 8.0564 - val_loss: 2.3582 - val_mae: 2.3582 - val_mse: 10.2809\n",
      "Epoch 14/20\n",
      "14/14 [==============================] - 0s 3ms/step - loss: 2.1174 - mae: 2.1174 - mse: 7.7318 - val_loss: 2.4057 - val_mae: 2.4057 - val_mse: 9.6732\n",
      "Epoch 15/20\n",
      "14/14 [==============================] - 0s 6ms/step - loss: 2.1328 - mae: 2.1328 - mse: 7.6819 - val_loss: 2.3914 - val_mae: 2.3914 - val_mse: 9.6526\n",
      "Epoch 16/20\n",
      "14/14 [==============================] - 0s 4ms/step - loss: 2.1194 - mae: 2.1194 - mse: 7.7282 - val_loss: 2.3743 - val_mae: 2.3743 - val_mse: 9.6869\n",
      "Epoch 17/20\n",
      "14/14 [==============================] - 0s 4ms/step - loss: 2.1187 - mae: 2.1187 - mse: 7.6658 - val_loss: 2.4569 - val_mae: 2.4569 - val_mse: 9.7703\n",
      "Epoch 18/20\n",
      "14/14 [==============================] - 0s 3ms/step - loss: 2.1555 - mae: 2.1555 - mse: 7.9341 - val_loss: 2.4474 - val_mae: 2.4474 - val_mse: 9.7758\n",
      "Epoch 19/20\n",
      "14/14 [==============================] - 0s 4ms/step - loss: 2.1129 - mae: 2.1129 - mse: 7.5342 - val_loss: 2.3598 - val_mae: 2.3598 - val_mse: 9.7984\n",
      "Epoch 20/20\n",
      "14/14 [==============================] - 0s 7ms/step - loss: 2.1129 - mae: 2.1129 - mse: 7.6414 - val_loss: 2.3938 - val_mae: 2.3938 - val_mse: 9.7244\n",
      "5/5 [==============================] - 0s 2ms/step\n",
      "Epoch 1/20\n",
      "14/14 [==============================] - 1s 11ms/step - loss: 5.7747 - mae: 5.7747 - mse: 52.0877 - val_loss: 3.1066 - val_mae: 3.1066 - val_mse: 13.9469\n",
      "Epoch 2/20\n",
      "14/14 [==============================] - 0s 3ms/step - loss: 3.0045 - mae: 3.0045 - mse: 13.8299 - val_loss: 2.7111 - val_mae: 2.7111 - val_mse: 11.3221\n",
      "Epoch 3/20\n",
      "14/14 [==============================] - 0s 3ms/step - loss: 2.5651 - mae: 2.5651 - mse: 10.4763 - val_loss: 2.3931 - val_mae: 2.3931 - val_mse: 9.2455\n",
      "Epoch 4/20\n",
      "14/14 [==============================] - 0s 3ms/step - loss: 2.3956 - mae: 2.3956 - mse: 9.5872 - val_loss: 2.4551 - val_mae: 2.4551 - val_mse: 9.5275\n",
      "Epoch 5/20\n",
      "14/14 [==============================] - 0s 3ms/step - loss: 2.3665 - mae: 2.3665 - mse: 9.2511 - val_loss: 2.5110 - val_mae: 2.5110 - val_mse: 9.8572\n",
      "Epoch 6/20\n",
      "14/14 [==============================] - 0s 3ms/step - loss: 2.2651 - mae: 2.2651 - mse: 8.7305 - val_loss: 2.3694 - val_mae: 2.3694 - val_mse: 9.0407\n",
      "Epoch 7/20\n",
      "14/14 [==============================] - 0s 3ms/step - loss: 2.2246 - mae: 2.2246 - mse: 8.3122 - val_loss: 2.2837 - val_mae: 2.2837 - val_mse: 8.8854\n",
      "Epoch 8/20\n",
      "14/14 [==============================] - 0s 3ms/step - loss: 2.2060 - mae: 2.2060 - mse: 8.3658 - val_loss: 2.3082 - val_mae: 2.3082 - val_mse: 9.3270\n",
      "Epoch 9/20\n",
      "14/14 [==============================] - 0s 3ms/step - loss: 2.3176 - mae: 2.3176 - mse: 9.2614 - val_loss: 2.3163 - val_mae: 2.3163 - val_mse: 9.5214\n",
      "Epoch 10/20\n",
      "14/14 [==============================] - 0s 3ms/step - loss: 2.2196 - mae: 2.2196 - mse: 8.5081 - val_loss: 2.2774 - val_mae: 2.2774 - val_mse: 8.7925\n",
      "Epoch 11/20\n",
      "14/14 [==============================] - 0s 3ms/step - loss: 2.1696 - mae: 2.1696 - mse: 8.2533 - val_loss: 2.3207 - val_mae: 2.3207 - val_mse: 8.7866\n",
      "Epoch 12/20\n",
      "14/14 [==============================] - 0s 3ms/step - loss: 2.1788 - mae: 2.1788 - mse: 8.4257 - val_loss: 2.3800 - val_mae: 2.3800 - val_mse: 8.9616\n",
      "Epoch 13/20\n",
      "14/14 [==============================] - 0s 3ms/step - loss: 2.2471 - mae: 2.2471 - mse: 8.7094 - val_loss: 2.3302 - val_mae: 2.3302 - val_mse: 8.8550\n",
      "Epoch 14/20\n",
      "14/14 [==============================] - 0s 3ms/step - loss: 2.1678 - mae: 2.1678 - mse: 8.1135 - val_loss: 2.2879 - val_mae: 2.2879 - val_mse: 8.7033\n",
      "Epoch 15/20\n",
      "14/14 [==============================] - 0s 3ms/step - loss: 2.1598 - mae: 2.1598 - mse: 8.1657 - val_loss: 2.2961 - val_mae: 2.2961 - val_mse: 8.6636\n",
      "Epoch 16/20\n",
      "14/14 [==============================] - 0s 3ms/step - loss: 2.2269 - mae: 2.2269 - mse: 8.5060 - val_loss: 2.6588 - val_mae: 2.6588 - val_mse: 10.5590\n",
      "Epoch 17/20\n",
      "14/14 [==============================] - 0s 3ms/step - loss: 2.1979 - mae: 2.1979 - mse: 8.5750 - val_loss: 2.5103 - val_mae: 2.5103 - val_mse: 9.7256\n",
      "Epoch 18/20\n",
      "14/14 [==============================] - 0s 4ms/step - loss: 2.3871 - mae: 2.3871 - mse: 9.6739 - val_loss: 2.4518 - val_mae: 2.4518 - val_mse: 9.3890\n",
      "Epoch 19/20\n",
      "14/14 [==============================] - 0s 3ms/step - loss: 2.2148 - mae: 2.2148 - mse: 8.5216 - val_loss: 2.3031 - val_mae: 2.3031 - val_mse: 8.6880\n",
      "Epoch 20/20\n",
      "14/14 [==============================] - 0s 3ms/step - loss: 2.0989 - mae: 2.0989 - mse: 7.8947 - val_loss: 2.3581 - val_mae: 2.3581 - val_mse: 10.0341\n",
      "5/5 [==============================] - 0s 1ms/step\n",
      "Epoch 1/20\n",
      "14/14 [==============================] - 1s 12ms/step - loss: 11.5718 - mae: 11.5718 - mse: 144.3495 - val_loss: 11.5138 - val_mae: 11.5138 - val_mse: 141.9725\n",
      "Epoch 2/20\n",
      "14/14 [==============================] - 0s 3ms/step - loss: 11.5718 - mae: 11.5718 - mse: 144.3495 - val_loss: 11.5138 - val_mae: 11.5138 - val_mse: 141.9725\n",
      "Epoch 3/20\n",
      "14/14 [==============================] - 0s 3ms/step - loss: 11.5718 - mae: 11.5718 - mse: 144.3495 - val_loss: 11.5138 - val_mae: 11.5138 - val_mse: 141.9725\n",
      "Epoch 4/20\n",
      "14/14 [==============================] - 0s 3ms/step - loss: 11.5718 - mae: 11.5718 - mse: 144.3495 - val_loss: 11.5138 - val_mae: 11.5138 - val_mse: 141.9725\n",
      "Epoch 5/20\n",
      "14/14 [==============================] - 0s 3ms/step - loss: 11.5718 - mae: 11.5718 - mse: 144.3495 - val_loss: 11.5138 - val_mae: 11.5138 - val_mse: 141.9725\n",
      "Epoch 6/20\n",
      "14/14 [==============================] - 0s 3ms/step - loss: 11.5718 - mae: 11.5718 - mse: 144.3495 - val_loss: 11.5138 - val_mae: 11.5138 - val_mse: 141.9725\n",
      "Epoch 7/20\n",
      "14/14 [==============================] - 0s 3ms/step - loss: 11.5718 - mae: 11.5718 - mse: 144.3495 - val_loss: 11.5138 - val_mae: 11.5138 - val_mse: 141.9725\n",
      "Epoch 8/20\n",
      "14/14 [==============================] - 0s 3ms/step - loss: 11.5718 - mae: 11.5718 - mse: 144.3495 - val_loss: 11.5138 - val_mae: 11.5138 - val_mse: 141.9725\n",
      "Epoch 9/20\n",
      "14/14 [==============================] - 0s 3ms/step - loss: 11.5718 - mae: 11.5718 - mse: 144.3495 - val_loss: 11.5138 - val_mae: 11.5138 - val_mse: 141.9725\n",
      "Epoch 10/20\n",
      "14/14 [==============================] - 0s 3ms/step - loss: 11.5718 - mae: 11.5718 - mse: 144.3495 - val_loss: 11.5138 - val_mae: 11.5138 - val_mse: 141.9725\n",
      "Epoch 11/20\n",
      "14/14 [==============================] - 0s 3ms/step - loss: 11.5718 - mae: 11.5718 - mse: 144.3495 - val_loss: 11.5138 - val_mae: 11.5138 - val_mse: 141.9725\n",
      "Epoch 12/20\n",
      "14/14 [==============================] - 0s 3ms/step - loss: 11.5718 - mae: 11.5718 - mse: 144.3495 - val_loss: 11.5138 - val_mae: 11.5138 - val_mse: 141.9725\n",
      "Epoch 13/20\n",
      "14/14 [==============================] - 0s 3ms/step - loss: 11.5718 - mae: 11.5718 - mse: 144.3495 - val_loss: 11.5138 - val_mae: 11.5138 - val_mse: 141.9725\n",
      "Epoch 14/20\n",
      "14/14 [==============================] - 0s 3ms/step - loss: 11.5718 - mae: 11.5718 - mse: 144.3495 - val_loss: 11.5138 - val_mae: 11.5138 - val_mse: 141.9725\n",
      "Epoch 15/20\n",
      "14/14 [==============================] - 0s 3ms/step - loss: 11.5718 - mae: 11.5718 - mse: 144.3495 - val_loss: 11.5138 - val_mae: 11.5138 - val_mse: 141.9725\n",
      "Epoch 16/20\n",
      "14/14 [==============================] - 0s 3ms/step - loss: 11.5718 - mae: 11.5718 - mse: 144.3495 - val_loss: 11.5138 - val_mae: 11.5138 - val_mse: 141.9725\n",
      "Epoch 17/20\n",
      "14/14 [==============================] - 0s 3ms/step - loss: 11.5718 - mae: 11.5718 - mse: 144.3495 - val_loss: 11.5138 - val_mae: 11.5138 - val_mse: 141.9725\n",
      "Epoch 18/20\n",
      "14/14 [==============================] - 0s 4ms/step - loss: 11.5718 - mae: 11.5718 - mse: 144.3495 - val_loss: 11.5138 - val_mae: 11.5138 - val_mse: 141.9725\n",
      "Epoch 19/20\n",
      "14/14 [==============================] - 0s 3ms/step - loss: 11.5718 - mae: 11.5718 - mse: 144.3495 - val_loss: 11.5138 - val_mae: 11.5138 - val_mse: 141.9725\n",
      "Epoch 20/20\n",
      "14/14 [==============================] - 0s 3ms/step - loss: 11.5718 - mae: 11.5718 - mse: 144.3495 - val_loss: 11.5138 - val_mae: 11.5138 - val_mse: 141.9725\n",
      "5/5 [==============================] - 0s 862us/step\n",
      "Epoch 1/20\n",
      "14/14 [==============================] - 1s 12ms/step - loss: 6.3191 - mae: 6.3191 - mse: 58.5799 - val_loss: 3.5944 - val_mae: 3.5944 - val_mse: 20.4119\n",
      "Epoch 2/20\n",
      "14/14 [==============================] - 0s 3ms/step - loss: 3.0120 - mae: 3.0120 - mse: 14.5236 - val_loss: 2.7470 - val_mae: 2.7470 - val_mse: 11.9500\n",
      "Epoch 3/20\n",
      "14/14 [==============================] - 0s 3ms/step - loss: 2.6723 - mae: 2.6723 - mse: 11.4296 - val_loss: 2.6510 - val_mae: 2.6510 - val_mse: 11.1858\n",
      "Epoch 4/20\n",
      "14/14 [==============================] - 0s 3ms/step - loss: 2.5435 - mae: 2.5435 - mse: 10.6335 - val_loss: 2.5549 - val_mae: 2.5549 - val_mse: 10.6657\n",
      "Epoch 5/20\n",
      "14/14 [==============================] - 0s 3ms/step - loss: 2.4596 - mae: 2.4596 - mse: 10.1271 - val_loss: 2.5010 - val_mae: 2.5010 - val_mse: 10.3869\n",
      "Epoch 6/20\n",
      "14/14 [==============================] - 0s 3ms/step - loss: 2.3682 - mae: 2.3682 - mse: 9.5991 - val_loss: 2.4554 - val_mae: 2.4554 - val_mse: 10.1462\n",
      "Epoch 7/20\n",
      "14/14 [==============================] - 0s 4ms/step - loss: 2.3146 - mae: 2.3146 - mse: 9.1814 - val_loss: 2.4173 - val_mae: 2.4173 - val_mse: 10.1200\n",
      "Epoch 8/20\n",
      "14/14 [==============================] - 0s 3ms/step - loss: 2.2770 - mae: 2.2770 - mse: 8.9739 - val_loss: 2.4106 - val_mae: 2.4106 - val_mse: 9.8751\n",
      "Epoch 9/20\n",
      "14/14 [==============================] - 0s 3ms/step - loss: 2.2570 - mae: 2.2570 - mse: 8.8664 - val_loss: 2.3888 - val_mae: 2.3888 - val_mse: 10.0714\n",
      "Epoch 10/20\n",
      "14/14 [==============================] - 0s 3ms/step - loss: 2.2617 - mae: 2.2617 - mse: 8.7321 - val_loss: 2.3709 - val_mae: 2.3709 - val_mse: 9.7349\n",
      "Epoch 11/20\n",
      "14/14 [==============================] - 0s 3ms/step - loss: 2.2489 - mae: 2.2489 - mse: 8.8126 - val_loss: 2.3688 - val_mae: 2.3688 - val_mse: 9.8565\n",
      "Epoch 12/20\n",
      "14/14 [==============================] - 0s 7ms/step - loss: 2.2230 - mae: 2.2230 - mse: 8.5439 - val_loss: 2.4461 - val_mae: 2.4461 - val_mse: 10.8344\n",
      "Epoch 13/20\n",
      "14/14 [==============================] - 0s 3ms/step - loss: 2.2558 - mae: 2.2558 - mse: 8.7249 - val_loss: 2.4433 - val_mae: 2.4433 - val_mse: 10.8110\n",
      "Epoch 14/20\n",
      "14/14 [==============================] - 0s 3ms/step - loss: 2.2282 - mae: 2.2282 - mse: 8.7143 - val_loss: 2.4145 - val_mae: 2.4145 - val_mse: 10.2971\n",
      "Epoch 15/20\n",
      "14/14 [==============================] - 0s 5ms/step - loss: 2.2640 - mae: 2.2640 - mse: 8.7378 - val_loss: 2.5051 - val_mae: 2.5051 - val_mse: 11.3687\n",
      "Epoch 16/20\n",
      "14/14 [==============================] - 0s 4ms/step - loss: 2.1876 - mae: 2.1876 - mse: 8.3243 - val_loss: 2.4997 - val_mae: 2.4997 - val_mse: 11.3205\n",
      "Epoch 17/20\n",
      "14/14 [==============================] - 0s 4ms/step - loss: 2.1877 - mae: 2.1877 - mse: 8.4748 - val_loss: 2.3989 - val_mae: 2.3989 - val_mse: 9.6833\n",
      "Epoch 18/20\n",
      "14/14 [==============================] - 0s 4ms/step - loss: 2.1575 - mae: 2.1575 - mse: 8.1109 - val_loss: 2.4248 - val_mae: 2.4248 - val_mse: 10.1633\n",
      "Epoch 19/20\n",
      "14/14 [==============================] - 0s 3ms/step - loss: 2.1709 - mae: 2.1709 - mse: 8.1473 - val_loss: 2.4135 - val_mae: 2.4135 - val_mse: 10.0813\n",
      "Epoch 20/20\n",
      "14/14 [==============================] - 0s 3ms/step - loss: 2.1694 - mae: 2.1694 - mse: 8.2628 - val_loss: 2.4736 - val_mae: 2.4736 - val_mse: 10.9667\n",
      "5/5 [==============================] - 0s 1ms/step\n",
      "Epoch 1/20\n",
      "14/14 [==============================] - 1s 13ms/step - loss: 5.4199 - mae: 5.4199 - mse: 44.3590 - val_loss: 3.4696 - val_mae: 3.4696 - val_mse: 18.8765\n",
      "Epoch 2/20\n",
      "14/14 [==============================] - 0s 4ms/step - loss: 3.1125 - mae: 3.1125 - mse: 15.3546 - val_loss: 2.9725 - val_mae: 2.9725 - val_mse: 15.2566\n",
      "Epoch 3/20\n",
      "14/14 [==============================] - 0s 4ms/step - loss: 2.7264 - mae: 2.7264 - mse: 12.7656 - val_loss: 2.5228 - val_mae: 2.5228 - val_mse: 10.9918\n",
      "Epoch 4/20\n",
      "14/14 [==============================] - 0s 5ms/step - loss: 2.4234 - mae: 2.4234 - mse: 10.0176 - val_loss: 2.4424 - val_mae: 2.4424 - val_mse: 10.5055\n",
      "Epoch 5/20\n",
      "14/14 [==============================] - 0s 4ms/step - loss: 2.3297 - mae: 2.3297 - mse: 9.4688 - val_loss: 2.4074 - val_mae: 2.4074 - val_mse: 10.2729\n",
      "Epoch 6/20\n",
      "14/14 [==============================] - 0s 4ms/step - loss: 2.2490 - mae: 2.2490 - mse: 8.7025 - val_loss: 2.4072 - val_mae: 2.4072 - val_mse: 10.3545\n",
      "Epoch 7/20\n",
      "14/14 [==============================] - 0s 4ms/step - loss: 2.2021 - mae: 2.2021 - mse: 8.5040 - val_loss: 2.3845 - val_mae: 2.3845 - val_mse: 10.1867\n",
      "Epoch 8/20\n",
      "14/14 [==============================] - 0s 3ms/step - loss: 2.1690 - mae: 2.1690 - mse: 8.3473 - val_loss: 2.3745 - val_mae: 2.3745 - val_mse: 9.8819\n",
      "Epoch 9/20\n",
      "14/14 [==============================] - 0s 3ms/step - loss: 2.2109 - mae: 2.2109 - mse: 8.6134 - val_loss: 2.4747 - val_mae: 2.4747 - val_mse: 10.9961\n",
      "Epoch 10/20\n",
      "14/14 [==============================] - 0s 4ms/step - loss: 2.2361 - mae: 2.2361 - mse: 8.8585 - val_loss: 2.4002 - val_mae: 2.4002 - val_mse: 9.8452\n",
      "Epoch 11/20\n",
      "14/14 [==============================] - 0s 4ms/step - loss: 2.2275 - mae: 2.2275 - mse: 8.5222 - val_loss: 2.3808 - val_mae: 2.3808 - val_mse: 9.6605\n",
      "Epoch 12/20\n",
      "14/14 [==============================] - 0s 4ms/step - loss: 2.1756 - mae: 2.1756 - mse: 8.2757 - val_loss: 2.4175 - val_mae: 2.4175 - val_mse: 9.8395\n",
      "Epoch 13/20\n",
      "14/14 [==============================] - 0s 4ms/step - loss: 2.1328 - mae: 2.1328 - mse: 8.1333 - val_loss: 2.3559 - val_mae: 2.3559 - val_mse: 9.6244\n",
      "Epoch 14/20\n",
      "14/14 [==============================] - 0s 4ms/step - loss: 2.1403 - mae: 2.1403 - mse: 8.1005 - val_loss: 2.3509 - val_mae: 2.3509 - val_mse: 9.6472\n",
      "Epoch 15/20\n",
      "14/14 [==============================] - 0s 4ms/step - loss: 2.1208 - mae: 2.1208 - mse: 8.0959 - val_loss: 2.3517 - val_mae: 2.3517 - val_mse: 9.9152\n",
      "Epoch 16/20\n",
      "14/14 [==============================] - 0s 3ms/step - loss: 2.1079 - mae: 2.1079 - mse: 7.9424 - val_loss: 2.3346 - val_mae: 2.3346 - val_mse: 9.6164\n",
      "Epoch 17/20\n",
      "14/14 [==============================] - 0s 3ms/step - loss: 2.1541 - mae: 2.1541 - mse: 8.0965 - val_loss: 2.3593 - val_mae: 2.3593 - val_mse: 9.5453\n",
      "Epoch 18/20\n",
      "14/14 [==============================] - 0s 3ms/step - loss: 2.1066 - mae: 2.1066 - mse: 8.0522 - val_loss: 2.4741 - val_mae: 2.4741 - val_mse: 9.9764\n",
      "Epoch 19/20\n",
      "14/14 [==============================] - 0s 3ms/step - loss: 2.1849 - mae: 2.1849 - mse: 8.2833 - val_loss: 2.3746 - val_mae: 2.3746 - val_mse: 9.6726\n",
      "Epoch 20/20\n",
      "14/14 [==============================] - 0s 3ms/step - loss: 2.0767 - mae: 2.0767 - mse: 7.8670 - val_loss: 2.3604 - val_mae: 2.3604 - val_mse: 9.6766\n",
      "5/5 [==============================] - 0s 1ms/step\n",
      "Epoch 1/20\n",
      "14/14 [==============================] - 1s 15ms/step - loss: 4.4700 - mae: 4.4700 - mse: 31.3664 - val_loss: 3.3558 - val_mae: 3.3558 - val_mse: 16.7239\n",
      "Epoch 2/20\n",
      "14/14 [==============================] - 0s 3ms/step - loss: 2.9707 - mae: 2.9707 - mse: 13.8229 - val_loss: 2.6628 - val_mae: 2.6628 - val_mse: 10.9928\n",
      "Epoch 3/20\n",
      "14/14 [==============================] - 0s 3ms/step - loss: 2.5516 - mae: 2.5516 - mse: 10.6893 - val_loss: 2.5052 - val_mae: 2.5052 - val_mse: 10.7607\n",
      "Epoch 4/20\n",
      "14/14 [==============================] - 0s 4ms/step - loss: 2.3731 - mae: 2.3731 - mse: 9.6478 - val_loss: 2.5592 - val_mae: 2.5592 - val_mse: 10.5950\n",
      "Epoch 5/20\n",
      "14/14 [==============================] - 0s 3ms/step - loss: 2.3599 - mae: 2.3599 - mse: 9.4581 - val_loss: 2.4468 - val_mae: 2.4468 - val_mse: 10.0549\n",
      "Epoch 6/20\n",
      "14/14 [==============================] - 0s 3ms/step - loss: 2.2551 - mae: 2.2551 - mse: 8.7444 - val_loss: 2.4375 - val_mae: 2.4375 - val_mse: 10.1175\n",
      "Epoch 7/20\n",
      "14/14 [==============================] - 0s 3ms/step - loss: 2.2320 - mae: 2.2320 - mse: 8.5506 - val_loss: 2.4162 - val_mae: 2.4162 - val_mse: 10.3236\n",
      "Epoch 8/20\n",
      "14/14 [==============================] - 0s 3ms/step - loss: 2.2108 - mae: 2.2108 - mse: 8.3681 - val_loss: 2.4332 - val_mae: 2.4332 - val_mse: 10.0553\n",
      "Epoch 9/20\n",
      "14/14 [==============================] - 0s 4ms/step - loss: 2.2807 - mae: 2.2807 - mse: 8.4761 - val_loss: 2.3992 - val_mae: 2.3992 - val_mse: 9.9990\n",
      "Epoch 10/20\n",
      "14/14 [==============================] - 0s 3ms/step - loss: 2.3488 - mae: 2.3488 - mse: 9.0561 - val_loss: 2.3967 - val_mae: 2.3967 - val_mse: 10.0401\n",
      "Epoch 11/20\n",
      "14/14 [==============================] - 0s 3ms/step - loss: 2.1936 - mae: 2.1936 - mse: 8.2494 - val_loss: 2.3988 - val_mae: 2.3988 - val_mse: 9.9073\n",
      "Epoch 12/20\n",
      "14/14 [==============================] - 0s 3ms/step - loss: 2.1198 - mae: 2.1198 - mse: 7.7224 - val_loss: 2.3806 - val_mae: 2.3806 - val_mse: 10.0558\n",
      "Epoch 13/20\n",
      "14/14 [==============================] - 0s 4ms/step - loss: 2.1212 - mae: 2.1212 - mse: 7.7079 - val_loss: 2.3873 - val_mae: 2.3873 - val_mse: 10.0766\n",
      "Epoch 14/20\n",
      "14/14 [==============================] - 0s 4ms/step - loss: 2.1464 - mae: 2.1464 - mse: 7.8334 - val_loss: 2.3983 - val_mae: 2.3983 - val_mse: 10.2526\n",
      "Epoch 15/20\n",
      "14/14 [==============================] - 0s 3ms/step - loss: 2.1265 - mae: 2.1265 - mse: 7.6803 - val_loss: 2.4011 - val_mae: 2.4011 - val_mse: 10.3796\n",
      "Epoch 16/20\n",
      "14/14 [==============================] - 0s 3ms/step - loss: 2.1116 - mae: 2.1116 - mse: 7.7115 - val_loss: 2.5035 - val_mae: 2.5035 - val_mse: 11.7206\n",
      "Epoch 17/20\n",
      "14/14 [==============================] - 0s 3ms/step - loss: 2.2233 - mae: 2.2233 - mse: 8.4039 - val_loss: 2.7795 - val_mae: 2.7795 - val_mse: 13.9906\n",
      "Epoch 18/20\n",
      "14/14 [==============================] - 0s 3ms/step - loss: 2.3752 - mae: 2.3752 - mse: 9.2593 - val_loss: 2.3524 - val_mae: 2.3524 - val_mse: 9.8418\n",
      "Epoch 19/20\n",
      "14/14 [==============================] - 0s 3ms/step - loss: 2.1029 - mae: 2.1029 - mse: 7.5547 - val_loss: 2.3476 - val_mae: 2.3476 - val_mse: 9.9445\n",
      "Epoch 20/20\n",
      "14/14 [==============================] - 0s 3ms/step - loss: 2.1689 - mae: 2.1689 - mse: 7.7713 - val_loss: 2.4120 - val_mae: 2.4120 - val_mse: 10.8599\n",
      "5/5 [==============================] - 0s 833us/step\n",
      "Epoch 1/20\n",
      "17/17 [==============================] - 1s 12ms/step - loss: 6.2364 - mae: 6.2364 - mse: 56.6717 - val_loss: 4.2514 - val_mae: 4.2514 - val_mse: 30.4191\n",
      "Epoch 2/20\n",
      "17/17 [==============================] - 0s 3ms/step - loss: 3.5367 - mae: 3.5367 - mse: 21.0954 - val_loss: 2.8956 - val_mae: 2.8956 - val_mse: 12.6874\n",
      "Epoch 3/20\n",
      "17/17 [==============================] - 0s 3ms/step - loss: 2.6711 - mae: 2.6711 - mse: 11.5460 - val_loss: 2.5475 - val_mae: 2.5475 - val_mse: 11.0084\n",
      "Epoch 4/20\n",
      "17/17 [==============================] - 0s 3ms/step - loss: 2.4563 - mae: 2.4563 - mse: 10.3766 - val_loss: 2.5435 - val_mae: 2.5435 - val_mse: 10.8029\n",
      "Epoch 5/20\n",
      "17/17 [==============================] - 0s 3ms/step - loss: 2.3258 - mae: 2.3258 - mse: 9.2107 - val_loss: 2.4457 - val_mae: 2.4457 - val_mse: 10.0880\n",
      "Epoch 6/20\n",
      "17/17 [==============================] - 0s 3ms/step - loss: 2.2576 - mae: 2.2576 - mse: 8.8807 - val_loss: 2.5299 - val_mae: 2.5299 - val_mse: 10.4847\n",
      "Epoch 7/20\n",
      "17/17 [==============================] - 0s 3ms/step - loss: 2.2500 - mae: 2.2500 - mse: 8.8590 - val_loss: 2.3941 - val_mae: 2.3941 - val_mse: 9.7781\n",
      "Epoch 8/20\n",
      "17/17 [==============================] - 0s 3ms/step - loss: 2.2061 - mae: 2.2061 - mse: 8.4437 - val_loss: 2.4185 - val_mae: 2.4185 - val_mse: 10.2874\n",
      "Epoch 9/20\n",
      "17/17 [==============================] - 0s 3ms/step - loss: 2.2067 - mae: 2.2067 - mse: 8.4089 - val_loss: 2.3780 - val_mae: 2.3780 - val_mse: 9.7123\n",
      "Epoch 10/20\n",
      "17/17 [==============================] - 0s 2ms/step - loss: 2.1961 - mae: 2.1961 - mse: 8.2891 - val_loss: 2.3972 - val_mae: 2.3972 - val_mse: 10.0649\n",
      "Epoch 11/20\n",
      "17/17 [==============================] - 0s 3ms/step - loss: 2.2189 - mae: 2.2189 - mse: 8.4445 - val_loss: 2.3844 - val_mae: 2.3844 - val_mse: 9.5872\n",
      "Epoch 12/20\n",
      "17/17 [==============================] - 0s 4ms/step - loss: 2.2716 - mae: 2.2716 - mse: 8.7291 - val_loss: 2.3549 - val_mae: 2.3549 - val_mse: 9.4809\n",
      "Epoch 13/20\n",
      "17/17 [==============================] - 0s 3ms/step - loss: 2.1845 - mae: 2.1845 - mse: 8.2519 - val_loss: 2.6180 - val_mae: 2.6180 - val_mse: 10.6818\n",
      "Epoch 14/20\n",
      "17/17 [==============================] - 0s 3ms/step - loss: 2.2687 - mae: 2.2687 - mse: 8.7450 - val_loss: 2.6461 - val_mae: 2.6461 - val_mse: 12.4332\n",
      "Epoch 15/20\n",
      "17/17 [==============================] - 0s 3ms/step - loss: 2.3237 - mae: 2.3237 - mse: 9.2811 - val_loss: 2.4656 - val_mae: 2.4656 - val_mse: 9.7429\n",
      "Epoch 16/20\n",
      "17/17 [==============================] - 0s 3ms/step - loss: 2.2578 - mae: 2.2578 - mse: 8.7689 - val_loss: 2.4031 - val_mae: 2.4031 - val_mse: 9.4497\n",
      "Epoch 17/20\n",
      "17/17 [==============================] - 0s 6ms/step - loss: 2.1474 - mae: 2.1474 - mse: 8.1496 - val_loss: 2.3867 - val_mae: 2.3867 - val_mse: 9.9477\n",
      "Epoch 18/20\n",
      "17/17 [==============================] - 0s 3ms/step - loss: 2.1531 - mae: 2.1531 - mse: 8.0773 - val_loss: 2.3826 - val_mae: 2.3826 - val_mse: 9.3954\n",
      "Epoch 19/20\n",
      "17/17 [==============================] - 0s 3ms/step - loss: 2.1775 - mae: 2.1775 - mse: 8.2354 - val_loss: 2.3727 - val_mae: 2.3727 - val_mse: 9.3894\n",
      "Epoch 20/20\n",
      "17/17 [==============================] - 0s 5ms/step - loss: 2.1877 - mae: 2.1877 - mse: 8.3538 - val_loss: 2.3661 - val_mae: 2.3661 - val_mse: 9.9205\n"
     ]
    },
    {
     "data": {
      "text/html": [
       "<style>#sk-container-id-4 {color: black;}#sk-container-id-4 pre{padding: 0;}#sk-container-id-4 div.sk-toggleable {background-color: white;}#sk-container-id-4 label.sk-toggleable__label {cursor: pointer;display: block;width: 100%;margin-bottom: 0;padding: 0.3em;box-sizing: border-box;text-align: center;}#sk-container-id-4 label.sk-toggleable__label-arrow:before {content: \"▸\";float: left;margin-right: 0.25em;color: #696969;}#sk-container-id-4 label.sk-toggleable__label-arrow:hover:before {color: black;}#sk-container-id-4 div.sk-estimator:hover label.sk-toggleable__label-arrow:before {color: black;}#sk-container-id-4 div.sk-toggleable__content {max-height: 0;max-width: 0;overflow: hidden;text-align: left;background-color: #f0f8ff;}#sk-container-id-4 div.sk-toggleable__content pre {margin: 0.2em;color: black;border-radius: 0.25em;background-color: #f0f8ff;}#sk-container-id-4 input.sk-toggleable__control:checked~div.sk-toggleable__content {max-height: 200px;max-width: 100%;overflow: auto;}#sk-container-id-4 input.sk-toggleable__control:checked~label.sk-toggleable__label-arrow:before {content: \"▾\";}#sk-container-id-4 div.sk-estimator input.sk-toggleable__control:checked~label.sk-toggleable__label {background-color: #d4ebff;}#sk-container-id-4 div.sk-label input.sk-toggleable__control:checked~label.sk-toggleable__label {background-color: #d4ebff;}#sk-container-id-4 input.sk-hidden--visually {border: 0;clip: rect(1px 1px 1px 1px);clip: rect(1px, 1px, 1px, 1px);height: 1px;margin: -1px;overflow: hidden;padding: 0;position: absolute;width: 1px;}#sk-container-id-4 div.sk-estimator {font-family: monospace;background-color: #f0f8ff;border: 1px dotted black;border-radius: 0.25em;box-sizing: border-box;margin-bottom: 0.5em;}#sk-container-id-4 div.sk-estimator:hover {background-color: #d4ebff;}#sk-container-id-4 div.sk-parallel-item::after {content: \"\";width: 100%;border-bottom: 1px solid gray;flex-grow: 1;}#sk-container-id-4 div.sk-label:hover label.sk-toggleable__label {background-color: #d4ebff;}#sk-container-id-4 div.sk-serial::before {content: \"\";position: absolute;border-left: 1px solid gray;box-sizing: border-box;top: 0;bottom: 0;left: 50%;z-index: 0;}#sk-container-id-4 div.sk-serial {display: flex;flex-direction: column;align-items: center;background-color: white;padding-right: 0.2em;padding-left: 0.2em;position: relative;}#sk-container-id-4 div.sk-item {position: relative;z-index: 1;}#sk-container-id-4 div.sk-parallel {display: flex;align-items: stretch;justify-content: center;background-color: white;position: relative;}#sk-container-id-4 div.sk-item::before, #sk-container-id-4 div.sk-parallel-item::before {content: \"\";position: absolute;border-left: 1px solid gray;box-sizing: border-box;top: 0;bottom: 0;left: 50%;z-index: -1;}#sk-container-id-4 div.sk-parallel-item {display: flex;flex-direction: column;z-index: 1;position: relative;background-color: white;}#sk-container-id-4 div.sk-parallel-item:first-child::after {align-self: flex-end;width: 50%;}#sk-container-id-4 div.sk-parallel-item:last-child::after {align-self: flex-start;width: 50%;}#sk-container-id-4 div.sk-parallel-item:only-child::after {width: 0;}#sk-container-id-4 div.sk-dashed-wrapped {border: 1px dashed gray;margin: 0 0.4em 0.5em 0.4em;box-sizing: border-box;padding-bottom: 0.4em;background-color: white;}#sk-container-id-4 div.sk-label label {font-family: monospace;font-weight: bold;display: inline-block;line-height: 1.2em;}#sk-container-id-4 div.sk-label-container {text-align: center;}#sk-container-id-4 div.sk-container {/* jupyter's `normalize.less` sets `[hidden] { display: none; }` but bootstrap.min.css set `[hidden] { display: none !important; }` so we also need the `!important` here to be able to override the default hidden behavior on the sphinx rendered scikit-learn.org. See: https://github.com/scikit-learn/scikit-learn/issues/21755 */display: inline-block !important;position: relative;}#sk-container-id-4 div.sk-text-repr-fallback {display: none;}</style><div id=\"sk-container-id-4\" class=\"sk-top-container\"><div class=\"sk-text-repr-fallback\"><pre>GridSearchCV(cv=KFold(n_splits=5, random_state=2021, shuffle=True),\n",
       "             estimator=KerasRegressor(batch_size=32, epochs=20, model=&lt;function build_model at 0x7fd480ac1090&gt;, validation_split=0.2),\n",
       "             param_grid={&#x27;optimizer&#x27;: [&#x27;SGD&#x27;, &#x27;RMSprop&#x27;, &#x27;Adagrad&#x27;]},\n",
       "             refit=&#x27;True&#x27;, scoring=&#x27;neg_mean_absolute_error&#x27;, verbose=1)</pre><b>In a Jupyter environment, please rerun this cell to show the HTML representation or trust the notebook. <br />On GitHub, the HTML representation is unable to render, please try loading this page with nbviewer.org.</b></div><div class=\"sk-container\" hidden><div class=\"sk-item sk-dashed-wrapped\"><div class=\"sk-label-container\"><div class=\"sk-label sk-toggleable\"><input class=\"sk-toggleable__control sk-hidden--visually\" id=\"sk-estimator-id-6\" type=\"checkbox\" ><label for=\"sk-estimator-id-6\" class=\"sk-toggleable__label sk-toggleable__label-arrow\">GridSearchCV</label><div class=\"sk-toggleable__content\"><pre>GridSearchCV(cv=KFold(n_splits=5, random_state=2021, shuffle=True),\n",
       "             estimator=KerasRegressor(batch_size=32, epochs=20, model=&lt;function build_model at 0x7fd480ac1090&gt;, validation_split=0.2),\n",
       "             param_grid={&#x27;optimizer&#x27;: [&#x27;SGD&#x27;, &#x27;RMSprop&#x27;, &#x27;Adagrad&#x27;]},\n",
       "             refit=&#x27;True&#x27;, scoring=&#x27;neg_mean_absolute_error&#x27;, verbose=1)</pre></div></div></div><div class=\"sk-parallel\"><div class=\"sk-parallel-item\"><div class=\"sk-item\"><div class=\"sk-label-container\"><div class=\"sk-label sk-toggleable\"><input class=\"sk-toggleable__control sk-hidden--visually\" id=\"sk-estimator-id-7\" type=\"checkbox\" ><label for=\"sk-estimator-id-7\" class=\"sk-toggleable__label sk-toggleable__label-arrow\">estimator: KerasRegressor</label><div class=\"sk-toggleable__content\"><pre>KerasRegressor(\n",
       "\tmodel=&lt;function build_model at 0x7fd480ac1090&gt;\n",
       "\tbuild_fn=None\n",
       "\twarm_start=False\n",
       "\trandom_state=None\n",
       "\toptimizer=rmsprop\n",
       "\tloss=None\n",
       "\tmetrics=None\n",
       "\tbatch_size=32\n",
       "\tvalidation_batch_size=None\n",
       "\tverbose=1\n",
       "\tcallbacks=None\n",
       "\tvalidation_split=0.2\n",
       "\tshuffle=True\n",
       "\trun_eagerly=False\n",
       "\tepochs=20\n",
       ")</pre></div></div></div><div class=\"sk-serial\"><div class=\"sk-item\"><div class=\"sk-estimator sk-toggleable\"><input class=\"sk-toggleable__control sk-hidden--visually\" id=\"sk-estimator-id-8\" type=\"checkbox\" ><label for=\"sk-estimator-id-8\" class=\"sk-toggleable__label sk-toggleable__label-arrow\">KerasRegressor</label><div class=\"sk-toggleable__content\"><pre>KerasRegressor(\n",
       "\tmodel=&lt;function build_model at 0x7fd480ac1090&gt;\n",
       "\tbuild_fn=None\n",
       "\twarm_start=False\n",
       "\trandom_state=None\n",
       "\toptimizer=rmsprop\n",
       "\tloss=None\n",
       "\tmetrics=None\n",
       "\tbatch_size=32\n",
       "\tvalidation_batch_size=None\n",
       "\tverbose=1\n",
       "\tcallbacks=None\n",
       "\tvalidation_split=0.2\n",
       "\tshuffle=True\n",
       "\trun_eagerly=False\n",
       "\tepochs=20\n",
       ")</pre></div></div></div></div></div></div></div></div></div></div>"
      ],
      "text/plain": [
       "GridSearchCV(cv=KFold(n_splits=5, random_state=2021, shuffle=True),\n",
       "             estimator=KerasRegressor(batch_size=32, epochs=20, model=<function build_model at 0x7fd480ac1090>, validation_split=0.2),\n",
       "             param_grid={'optimizer': ['SGD', 'RMSprop', 'Adagrad']},\n",
       "             refit='True', scoring='neg_mean_absolute_error', verbose=1)"
      ]
     },
     "execution_count": 70,
     "metadata": {},
     "output_type": "execute_result"
    }
   ],
   "source": [
    "grid_search.fit(X_train, y_train)"
   ]
  },
  {
   "cell_type": "code",
   "execution_count": null,
   "metadata": {},
   "outputs": [],
   "source": [
    "print(\"Best: %f using %s\" % (grid_search.best_score_, grid_search.best_params_))\n"
   ]
  },
  {
   "cell_type": "code",
   "execution_count": null,
   "metadata": {},
   "outputs": [],
   "source": [
    "best_mlp = grid_search.best_estimator_\n",
    "print(best_mlp)"
   ]
  },
  {
   "cell_type": "code",
   "execution_count": null,
   "metadata": {},
   "outputs": [],
   "source": [
    "best_mlp.fit(X_train, y_train, epochs=20, validation_data=(X_test,y_test), verbose=1)"
   ]
  },
  {
   "cell_type": "code",
   "execution_count": null,
   "metadata": {},
   "outputs": [],
   "source": [
    "plt.plot(best_mlp.history_['loss'])\n",
    "plt.plot(best_mlp.history_['val_loss'])\n",
    "plt.title('model perfomance')\n",
    "plt.ylabel('loss values')\n",
    "plt.xlabel('epoch')\n",
    "plt.legend(['train', 'val'], loc='upper left')\n",
    "plt.show()\n"
   ]
  },
  {
   "cell_type": "code",
   "execution_count": null,
   "metadata": {},
   "outputs": [],
   "source": [
    "pd.DataFrame(best_mlp.history_).plot(figsize=(8,5))\n",
    "plt.show()"
   ]
  },
  {
   "cell_type": "code",
   "execution_count": null,
   "metadata": {},
   "outputs": [],
   "source": [
    "predictions=best_mlp.predict(X_test)"
   ]
  },
  {
   "cell_type": "code",
   "execution_count": null,
   "metadata": {},
   "outputs": [],
   "source": [
    "calculate_metrics(y_test,predictions)"
   ]
  }
 ],
 "metadata": {
  "kernelspec": {
   "display_name": "Python 3 (ipykernel)",
   "language": "python",
   "name": "python3"
  },
  "language_info": {
   "codemirror_mode": {
    "name": "ipython",
    "version": 3
   },
   "file_extension": ".py",
   "mimetype": "text/x-python",
   "name": "python",
   "nbconvert_exporter": "python",
   "pygments_lexer": "ipython3",
   "version": "3.10.13"
  }
 },
 "nbformat": 4,
 "nbformat_minor": 4
}
